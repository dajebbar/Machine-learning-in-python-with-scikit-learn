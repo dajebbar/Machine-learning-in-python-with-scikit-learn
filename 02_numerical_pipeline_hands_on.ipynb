{
  "cells": [
    {
      "cell_type": "markdown",
      "metadata": {
        "id": "view-in-github",
        "colab_type": "text"
      },
      "source": [
        "<a href=\"https://colab.research.google.com/github/dajebbar/Machine-learning-in-python-with-scikit-learn/blob/main/02_numerical_pipeline_hands_on.ipynb\" target=\"_parent\"><img src=\"https://colab.research.google.com/assets/colab-badge.svg\" alt=\"Open In Colab\"/></a>"
      ]
    },
    {
      "cell_type": "markdown",
      "id": "a2116934",
      "metadata": {
        "id": "a2116934"
      },
      "source": [
        "# Working with numerical data\n",
        "\n",
        "In the previous notebook, we trained a k-nearest neighbors model on\n",
        "some data.\n",
        "\n",
        "However, we oversimplified the procedure by loading a dataset that contained\n",
        "exclusively numerical data. Besides, we used datasets which were already\n",
        "split into train-test sets.\n",
        "\n",
        "In this notebook, we aim at:\n",
        "\n",
        "* identifying numerical data in a heterogeneous dataset;\n",
        "* selecting the subset of columns corresponding to numerical data;\n",
        "* using a scikit-learn helper to separate data into train-test sets;\n",
        "* training and evaluating a more complex scikit-learn model.\n",
        "\n",
        "We will start by loading the adult census dataset used during the data\n",
        "exploration.\n",
        "\n",
        "## Loading the entire dataset\n",
        "\n",
        "As in the previous notebook, we rely on pandas to open the CSV file into\n",
        "a pandas dataframe."
      ]
    },
    {
      "cell_type": "code",
      "execution_count": null,
      "id": "22c5317f",
      "metadata": {
        "id": "22c5317f",
        "outputId": "a218cc5a-0590-4700-cfd4-5a65b3efcae9"
      },
      "outputs": [
        {
          "data": {
            "text/html": [
              "<div>\n",
              "<style scoped>\n",
              "    .dataframe tbody tr th:only-of-type {\n",
              "        vertical-align: middle;\n",
              "    }\n",
              "\n",
              "    .dataframe tbody tr th {\n",
              "        vertical-align: top;\n",
              "    }\n",
              "\n",
              "    .dataframe thead th {\n",
              "        text-align: right;\n",
              "    }\n",
              "</style>\n",
              "<table border=\"1\" class=\"dataframe\">\n",
              "  <thead>\n",
              "    <tr style=\"text-align: right;\">\n",
              "      <th></th>\n",
              "      <th>age</th>\n",
              "      <th>workclass</th>\n",
              "      <th>education</th>\n",
              "      <th>marital-status</th>\n",
              "      <th>occupation</th>\n",
              "      <th>relationship</th>\n",
              "      <th>race</th>\n",
              "      <th>sex</th>\n",
              "      <th>capital-gain</th>\n",
              "      <th>capital-loss</th>\n",
              "      <th>hours-per-week</th>\n",
              "      <th>native-country</th>\n",
              "      <th>class</th>\n",
              "    </tr>\n",
              "  </thead>\n",
              "  <tbody>\n",
              "    <tr>\n",
              "      <th>0</th>\n",
              "      <td>25</td>\n",
              "      <td>Private</td>\n",
              "      <td>11th</td>\n",
              "      <td>Never-married</td>\n",
              "      <td>Machine-op-inspct</td>\n",
              "      <td>Own-child</td>\n",
              "      <td>Black</td>\n",
              "      <td>Male</td>\n",
              "      <td>0</td>\n",
              "      <td>0</td>\n",
              "      <td>40</td>\n",
              "      <td>United-States</td>\n",
              "      <td>&lt;=50K</td>\n",
              "    </tr>\n",
              "    <tr>\n",
              "      <th>1</th>\n",
              "      <td>38</td>\n",
              "      <td>Private</td>\n",
              "      <td>HS-grad</td>\n",
              "      <td>Married-civ-spouse</td>\n",
              "      <td>Farming-fishing</td>\n",
              "      <td>Husband</td>\n",
              "      <td>White</td>\n",
              "      <td>Male</td>\n",
              "      <td>0</td>\n",
              "      <td>0</td>\n",
              "      <td>50</td>\n",
              "      <td>United-States</td>\n",
              "      <td>&lt;=50K</td>\n",
              "    </tr>\n",
              "    <tr>\n",
              "      <th>2</th>\n",
              "      <td>28</td>\n",
              "      <td>Local-gov</td>\n",
              "      <td>Assoc-acdm</td>\n",
              "      <td>Married-civ-spouse</td>\n",
              "      <td>Protective-serv</td>\n",
              "      <td>Husband</td>\n",
              "      <td>White</td>\n",
              "      <td>Male</td>\n",
              "      <td>0</td>\n",
              "      <td>0</td>\n",
              "      <td>40</td>\n",
              "      <td>United-States</td>\n",
              "      <td>&gt;50K</td>\n",
              "    </tr>\n",
              "    <tr>\n",
              "      <th>3</th>\n",
              "      <td>44</td>\n",
              "      <td>Private</td>\n",
              "      <td>Some-college</td>\n",
              "      <td>Married-civ-spouse</td>\n",
              "      <td>Machine-op-inspct</td>\n",
              "      <td>Husband</td>\n",
              "      <td>Black</td>\n",
              "      <td>Male</td>\n",
              "      <td>7688</td>\n",
              "      <td>0</td>\n",
              "      <td>40</td>\n",
              "      <td>United-States</td>\n",
              "      <td>&gt;50K</td>\n",
              "    </tr>\n",
              "    <tr>\n",
              "      <th>4</th>\n",
              "      <td>18</td>\n",
              "      <td>?</td>\n",
              "      <td>Some-college</td>\n",
              "      <td>Never-married</td>\n",
              "      <td>?</td>\n",
              "      <td>Own-child</td>\n",
              "      <td>White</td>\n",
              "      <td>Female</td>\n",
              "      <td>0</td>\n",
              "      <td>0</td>\n",
              "      <td>30</td>\n",
              "      <td>United-States</td>\n",
              "      <td>&lt;=50K</td>\n",
              "    </tr>\n",
              "  </tbody>\n",
              "</table>\n",
              "</div>"
            ],
            "text/plain": [
              "   age   workclass      education       marital-status          occupation  \\\n",
              "0   25     Private           11th        Never-married   Machine-op-inspct   \n",
              "1   38     Private        HS-grad   Married-civ-spouse     Farming-fishing   \n",
              "2   28   Local-gov     Assoc-acdm   Married-civ-spouse     Protective-serv   \n",
              "3   44     Private   Some-college   Married-civ-spouse   Machine-op-inspct   \n",
              "4   18           ?   Some-college        Never-married                   ?   \n",
              "\n",
              "  relationship    race      sex  capital-gain  capital-loss  hours-per-week  \\\n",
              "0    Own-child   Black     Male             0             0              40   \n",
              "1      Husband   White     Male             0             0              50   \n",
              "2      Husband   White     Male             0             0              40   \n",
              "3      Husband   Black     Male          7688             0              40   \n",
              "4    Own-child   White   Female             0             0              30   \n",
              "\n",
              "   native-country   class  \n",
              "0   United-States   <=50K  \n",
              "1   United-States   <=50K  \n",
              "2   United-States    >50K  \n",
              "3   United-States    >50K  \n",
              "4   United-States   <=50K  "
            ]
          },
          "execution_count": 1,
          "metadata": {},
          "output_type": "execute_result"
        }
      ],
      "source": [
        "import pandas as pd\n",
        "\n",
        "adult_census = pd.read_csv(\"../datasets/adult-census.csv\")\n",
        "# drop the duplicated column `\"education-num\"` as stated in the first notebook\n",
        "adult_census = adult_census.drop(columns=\"education-num\")\n",
        "adult_census.head()"
      ]
    },
    {
      "cell_type": "markdown",
      "id": "ddd17cb4",
      "metadata": {
        "id": "ddd17cb4"
      },
      "source": [
        "The next step separates the target from the data. We performed the same\n",
        "procedure in the previous notebook."
      ]
    },
    {
      "cell_type": "code",
      "execution_count": null,
      "id": "94a1a8c2",
      "metadata": {
        "id": "94a1a8c2"
      },
      "outputs": [],
      "source": [
        "data, target = adult_census.drop(columns=\"class\"), adult_census[\"class\"]"
      ]
    },
    {
      "cell_type": "code",
      "execution_count": null,
      "id": "e2bb3ccc",
      "metadata": {
        "id": "e2bb3ccc",
        "outputId": "a6a5d2d8-2831-4a12-968d-ea9badaee8ff"
      },
      "outputs": [
        {
          "data": {
            "text/html": [
              "<div>\n",
              "<style scoped>\n",
              "    .dataframe tbody tr th:only-of-type {\n",
              "        vertical-align: middle;\n",
              "    }\n",
              "\n",
              "    .dataframe tbody tr th {\n",
              "        vertical-align: top;\n",
              "    }\n",
              "\n",
              "    .dataframe thead th {\n",
              "        text-align: right;\n",
              "    }\n",
              "</style>\n",
              "<table border=\"1\" class=\"dataframe\">\n",
              "  <thead>\n",
              "    <tr style=\"text-align: right;\">\n",
              "      <th></th>\n",
              "      <th>age</th>\n",
              "      <th>workclass</th>\n",
              "      <th>education</th>\n",
              "      <th>marital-status</th>\n",
              "      <th>occupation</th>\n",
              "      <th>relationship</th>\n",
              "      <th>race</th>\n",
              "      <th>sex</th>\n",
              "      <th>capital-gain</th>\n",
              "      <th>capital-loss</th>\n",
              "      <th>hours-per-week</th>\n",
              "      <th>native-country</th>\n",
              "    </tr>\n",
              "  </thead>\n",
              "  <tbody>\n",
              "    <tr>\n",
              "      <th>0</th>\n",
              "      <td>25</td>\n",
              "      <td>Private</td>\n",
              "      <td>11th</td>\n",
              "      <td>Never-married</td>\n",
              "      <td>Machine-op-inspct</td>\n",
              "      <td>Own-child</td>\n",
              "      <td>Black</td>\n",
              "      <td>Male</td>\n",
              "      <td>0</td>\n",
              "      <td>0</td>\n",
              "      <td>40</td>\n",
              "      <td>United-States</td>\n",
              "    </tr>\n",
              "    <tr>\n",
              "      <th>1</th>\n",
              "      <td>38</td>\n",
              "      <td>Private</td>\n",
              "      <td>HS-grad</td>\n",
              "      <td>Married-civ-spouse</td>\n",
              "      <td>Farming-fishing</td>\n",
              "      <td>Husband</td>\n",
              "      <td>White</td>\n",
              "      <td>Male</td>\n",
              "      <td>0</td>\n",
              "      <td>0</td>\n",
              "      <td>50</td>\n",
              "      <td>United-States</td>\n",
              "    </tr>\n",
              "    <tr>\n",
              "      <th>2</th>\n",
              "      <td>28</td>\n",
              "      <td>Local-gov</td>\n",
              "      <td>Assoc-acdm</td>\n",
              "      <td>Married-civ-spouse</td>\n",
              "      <td>Protective-serv</td>\n",
              "      <td>Husband</td>\n",
              "      <td>White</td>\n",
              "      <td>Male</td>\n",
              "      <td>0</td>\n",
              "      <td>0</td>\n",
              "      <td>40</td>\n",
              "      <td>United-States</td>\n",
              "    </tr>\n",
              "    <tr>\n",
              "      <th>3</th>\n",
              "      <td>44</td>\n",
              "      <td>Private</td>\n",
              "      <td>Some-college</td>\n",
              "      <td>Married-civ-spouse</td>\n",
              "      <td>Machine-op-inspct</td>\n",
              "      <td>Husband</td>\n",
              "      <td>Black</td>\n",
              "      <td>Male</td>\n",
              "      <td>7688</td>\n",
              "      <td>0</td>\n",
              "      <td>40</td>\n",
              "      <td>United-States</td>\n",
              "    </tr>\n",
              "    <tr>\n",
              "      <th>4</th>\n",
              "      <td>18</td>\n",
              "      <td>?</td>\n",
              "      <td>Some-college</td>\n",
              "      <td>Never-married</td>\n",
              "      <td>?</td>\n",
              "      <td>Own-child</td>\n",
              "      <td>White</td>\n",
              "      <td>Female</td>\n",
              "      <td>0</td>\n",
              "      <td>0</td>\n",
              "      <td>30</td>\n",
              "      <td>United-States</td>\n",
              "    </tr>\n",
              "  </tbody>\n",
              "</table>\n",
              "</div>"
            ],
            "text/plain": [
              "   age   workclass      education       marital-status          occupation  \\\n",
              "0   25     Private           11th        Never-married   Machine-op-inspct   \n",
              "1   38     Private        HS-grad   Married-civ-spouse     Farming-fishing   \n",
              "2   28   Local-gov     Assoc-acdm   Married-civ-spouse     Protective-serv   \n",
              "3   44     Private   Some-college   Married-civ-spouse   Machine-op-inspct   \n",
              "4   18           ?   Some-college        Never-married                   ?   \n",
              "\n",
              "  relationship    race      sex  capital-gain  capital-loss  hours-per-week  \\\n",
              "0    Own-child   Black     Male             0             0              40   \n",
              "1      Husband   White     Male             0             0              50   \n",
              "2      Husband   White     Male             0             0              40   \n",
              "3      Husband   Black     Male          7688             0              40   \n",
              "4    Own-child   White   Female             0             0              30   \n",
              "\n",
              "   native-country  \n",
              "0   United-States  \n",
              "1   United-States  \n",
              "2   United-States  \n",
              "3   United-States  \n",
              "4   United-States  "
            ]
          },
          "execution_count": 3,
          "metadata": {},
          "output_type": "execute_result"
        }
      ],
      "source": [
        "data.head()"
      ]
    },
    {
      "cell_type": "code",
      "execution_count": null,
      "id": "09cd37a6",
      "metadata": {
        "id": "09cd37a6",
        "outputId": "8f43b73d-fc7e-4f42-e180-7764dbb07bae"
      },
      "outputs": [
        {
          "data": {
            "text/plain": [
              "0         <=50K\n",
              "1         <=50K\n",
              "2          >50K\n",
              "3          >50K\n",
              "4         <=50K\n",
              "          ...  \n",
              "48837     <=50K\n",
              "48838      >50K\n",
              "48839     <=50K\n",
              "48840     <=50K\n",
              "48841      >50K\n",
              "Name: class, Length: 48842, dtype: object"
            ]
          },
          "execution_count": 4,
          "metadata": {},
          "output_type": "execute_result"
        }
      ],
      "source": [
        "target"
      ]
    },
    {
      "cell_type": "markdown",
      "id": "cd6d758d",
      "metadata": {
        "id": "cd6d758d"
      },
      "source": [
        "<div class=\"admonition note alert alert-info\">\n",
        "<p class=\"first admonition-title\" style=\"font-weight: bold;\">Note</p>\n",
        "<p class=\"last\">Here and later, we use the name <tt class=\"docutils literal\">data</tt> and <tt class=\"docutils literal\">target</tt> to be explicit. In\n",
        "scikit-learn documentation, <tt class=\"docutils literal\">data</tt> is commonly named <tt class=\"docutils literal\">X</tt> and <tt class=\"docutils literal\">target</tt> is\n",
        "commonly called <tt class=\"docutils literal\">y</tt>.</p>\n",
        "</div>"
      ]
    },
    {
      "cell_type": "markdown",
      "id": "287f5c17",
      "metadata": {
        "id": "287f5c17"
      },
      "source": [
        "At this point, we can focus on the data we want to use to train our\n",
        "predictive model.\n",
        "\n",
        "## Identify numerical data\n",
        "\n",
        "Numerical data are represented with numbers. They are linked to measurable\n",
        "(quantitative) data, such as age or the number of hours a person works a\n",
        "week.\n",
        "\n",
        "Predictive models are natively designed to work with numerical data.\n",
        "Moreover, numerical data usually requires very little work before getting\n",
        "started with training.\n",
        "\n",
        "The first task here will be to identify numerical data in our dataset.\n",
        "\n",
        "<div class=\"admonition caution alert alert-warning\">\n",
        "<p class=\"first admonition-title\" style=\"font-weight: bold;\">Caution!</p>\n",
        "<p class=\"last\">Numerical data are represented with numbers, but numbers are not always\n",
        "representing numerical data. Categories could already be encoded with\n",
        "numbers and you will need to identify these features.</p>\n",
        "</div>\n",
        "\n",
        "Thus, we can check the data type for each of the column in the dataset."
      ]
    },
    {
      "cell_type": "code",
      "execution_count": null,
      "id": "44d4406c",
      "metadata": {
        "id": "44d4406c",
        "outputId": "618c58e2-7f37-45d0-b633-4dca01b9b393"
      },
      "outputs": [
        {
          "data": {
            "text/plain": [
              "age                int64\n",
              "workclass         object\n",
              "education         object\n",
              "marital-status    object\n",
              "occupation        object\n",
              "relationship      object\n",
              "race              object\n",
              "sex               object\n",
              "capital-gain       int64\n",
              "capital-loss       int64\n",
              "hours-per-week     int64\n",
              "native-country    object\n",
              "dtype: object"
            ]
          },
          "execution_count": 5,
          "metadata": {},
          "output_type": "execute_result"
        }
      ],
      "source": [
        "data.dtypes"
      ]
    },
    {
      "cell_type": "markdown",
      "id": "51ee18a6",
      "metadata": {
        "id": "51ee18a6"
      },
      "source": [
        "We seem to have only two data types. We can make sure by checking the unique\n",
        "data types."
      ]
    },
    {
      "cell_type": "code",
      "execution_count": null,
      "id": "7e132c2a",
      "metadata": {
        "id": "7e132c2a",
        "outputId": "a24202fb-8f43-492b-e7f6-c22e322639fc"
      },
      "outputs": [
        {
          "data": {
            "text/plain": [
              "array([dtype('int64'), dtype('O')], dtype=object)"
            ]
          },
          "execution_count": 6,
          "metadata": {},
          "output_type": "execute_result"
        }
      ],
      "source": [
        "data.dtypes.unique()"
      ]
    },
    {
      "cell_type": "markdown",
      "id": "f9a9f1f7",
      "metadata": {
        "id": "f9a9f1f7"
      },
      "source": [
        "Indeed, the only two types in the dataset are integer and object.\n",
        "We can look at the first few lines of the dataframe to understand the\n",
        "meaning of the `object` data type."
      ]
    },
    {
      "cell_type": "code",
      "execution_count": null,
      "id": "4a407425",
      "metadata": {
        "id": "4a407425",
        "outputId": "1b3ca0ba-919b-4c1e-96be-9a51bbdb0af7"
      },
      "outputs": [
        {
          "data": {
            "text/html": [
              "<div>\n",
              "<style scoped>\n",
              "    .dataframe tbody tr th:only-of-type {\n",
              "        vertical-align: middle;\n",
              "    }\n",
              "\n",
              "    .dataframe tbody tr th {\n",
              "        vertical-align: top;\n",
              "    }\n",
              "\n",
              "    .dataframe thead th {\n",
              "        text-align: right;\n",
              "    }\n",
              "</style>\n",
              "<table border=\"1\" class=\"dataframe\">\n",
              "  <thead>\n",
              "    <tr style=\"text-align: right;\">\n",
              "      <th></th>\n",
              "      <th>age</th>\n",
              "      <th>workclass</th>\n",
              "      <th>education</th>\n",
              "      <th>marital-status</th>\n",
              "      <th>occupation</th>\n",
              "      <th>relationship</th>\n",
              "      <th>race</th>\n",
              "      <th>sex</th>\n",
              "      <th>capital-gain</th>\n",
              "      <th>capital-loss</th>\n",
              "      <th>hours-per-week</th>\n",
              "      <th>native-country</th>\n",
              "    </tr>\n",
              "  </thead>\n",
              "  <tbody>\n",
              "    <tr>\n",
              "      <th>0</th>\n",
              "      <td>25</td>\n",
              "      <td>Private</td>\n",
              "      <td>11th</td>\n",
              "      <td>Never-married</td>\n",
              "      <td>Machine-op-inspct</td>\n",
              "      <td>Own-child</td>\n",
              "      <td>Black</td>\n",
              "      <td>Male</td>\n",
              "      <td>0</td>\n",
              "      <td>0</td>\n",
              "      <td>40</td>\n",
              "      <td>United-States</td>\n",
              "    </tr>\n",
              "    <tr>\n",
              "      <th>1</th>\n",
              "      <td>38</td>\n",
              "      <td>Private</td>\n",
              "      <td>HS-grad</td>\n",
              "      <td>Married-civ-spouse</td>\n",
              "      <td>Farming-fishing</td>\n",
              "      <td>Husband</td>\n",
              "      <td>White</td>\n",
              "      <td>Male</td>\n",
              "      <td>0</td>\n",
              "      <td>0</td>\n",
              "      <td>50</td>\n",
              "      <td>United-States</td>\n",
              "    </tr>\n",
              "    <tr>\n",
              "      <th>2</th>\n",
              "      <td>28</td>\n",
              "      <td>Local-gov</td>\n",
              "      <td>Assoc-acdm</td>\n",
              "      <td>Married-civ-spouse</td>\n",
              "      <td>Protective-serv</td>\n",
              "      <td>Husband</td>\n",
              "      <td>White</td>\n",
              "      <td>Male</td>\n",
              "      <td>0</td>\n",
              "      <td>0</td>\n",
              "      <td>40</td>\n",
              "      <td>United-States</td>\n",
              "    </tr>\n",
              "    <tr>\n",
              "      <th>3</th>\n",
              "      <td>44</td>\n",
              "      <td>Private</td>\n",
              "      <td>Some-college</td>\n",
              "      <td>Married-civ-spouse</td>\n",
              "      <td>Machine-op-inspct</td>\n",
              "      <td>Husband</td>\n",
              "      <td>Black</td>\n",
              "      <td>Male</td>\n",
              "      <td>7688</td>\n",
              "      <td>0</td>\n",
              "      <td>40</td>\n",
              "      <td>United-States</td>\n",
              "    </tr>\n",
              "    <tr>\n",
              "      <th>4</th>\n",
              "      <td>18</td>\n",
              "      <td>?</td>\n",
              "      <td>Some-college</td>\n",
              "      <td>Never-married</td>\n",
              "      <td>?</td>\n",
              "      <td>Own-child</td>\n",
              "      <td>White</td>\n",
              "      <td>Female</td>\n",
              "      <td>0</td>\n",
              "      <td>0</td>\n",
              "      <td>30</td>\n",
              "      <td>United-States</td>\n",
              "    </tr>\n",
              "  </tbody>\n",
              "</table>\n",
              "</div>"
            ],
            "text/plain": [
              "   age   workclass      education       marital-status          occupation  \\\n",
              "0   25     Private           11th        Never-married   Machine-op-inspct   \n",
              "1   38     Private        HS-grad   Married-civ-spouse     Farming-fishing   \n",
              "2   28   Local-gov     Assoc-acdm   Married-civ-spouse     Protective-serv   \n",
              "3   44     Private   Some-college   Married-civ-spouse   Machine-op-inspct   \n",
              "4   18           ?   Some-college        Never-married                   ?   \n",
              "\n",
              "  relationship    race      sex  capital-gain  capital-loss  hours-per-week  \\\n",
              "0    Own-child   Black     Male             0             0              40   \n",
              "1      Husband   White     Male             0             0              50   \n",
              "2      Husband   White     Male             0             0              40   \n",
              "3      Husband   Black     Male          7688             0              40   \n",
              "4    Own-child   White   Female             0             0              30   \n",
              "\n",
              "   native-country  \n",
              "0   United-States  \n",
              "1   United-States  \n",
              "2   United-States  \n",
              "3   United-States  \n",
              "4   United-States  "
            ]
          },
          "execution_count": 7,
          "metadata": {},
          "output_type": "execute_result"
        }
      ],
      "source": [
        "data.head()"
      ]
    },
    {
      "cell_type": "markdown",
      "id": "204b4c5d",
      "metadata": {
        "id": "204b4c5d"
      },
      "source": [
        "We see that the `object` data type corresponds to columns containing strings.\n",
        "As we saw in the exploration section, these columns contain categories and we\n",
        "will see later how to handle those. We can select the columns containing\n",
        "integers and check their content."
      ]
    },
    {
      "cell_type": "code",
      "execution_count": null,
      "id": "dee3c6b6",
      "metadata": {
        "id": "dee3c6b6",
        "outputId": "08b77647-6653-4663-8fff-0ae1cf025289"
      },
      "outputs": [
        {
          "data": {
            "text/html": [
              "<div>\n",
              "<style scoped>\n",
              "    .dataframe tbody tr th:only-of-type {\n",
              "        vertical-align: middle;\n",
              "    }\n",
              "\n",
              "    .dataframe tbody tr th {\n",
              "        vertical-align: top;\n",
              "    }\n",
              "\n",
              "    .dataframe thead th {\n",
              "        text-align: right;\n",
              "    }\n",
              "</style>\n",
              "<table border=\"1\" class=\"dataframe\">\n",
              "  <thead>\n",
              "    <tr style=\"text-align: right;\">\n",
              "      <th></th>\n",
              "      <th>age</th>\n",
              "      <th>capital-gain</th>\n",
              "      <th>capital-loss</th>\n",
              "      <th>hours-per-week</th>\n",
              "    </tr>\n",
              "  </thead>\n",
              "  <tbody>\n",
              "    <tr>\n",
              "      <th>0</th>\n",
              "      <td>25</td>\n",
              "      <td>0</td>\n",
              "      <td>0</td>\n",
              "      <td>40</td>\n",
              "    </tr>\n",
              "    <tr>\n",
              "      <th>1</th>\n",
              "      <td>38</td>\n",
              "      <td>0</td>\n",
              "      <td>0</td>\n",
              "      <td>50</td>\n",
              "    </tr>\n",
              "    <tr>\n",
              "      <th>2</th>\n",
              "      <td>28</td>\n",
              "      <td>0</td>\n",
              "      <td>0</td>\n",
              "      <td>40</td>\n",
              "    </tr>\n",
              "    <tr>\n",
              "      <th>3</th>\n",
              "      <td>44</td>\n",
              "      <td>7688</td>\n",
              "      <td>0</td>\n",
              "      <td>40</td>\n",
              "    </tr>\n",
              "    <tr>\n",
              "      <th>4</th>\n",
              "      <td>18</td>\n",
              "      <td>0</td>\n",
              "      <td>0</td>\n",
              "      <td>30</td>\n",
              "    </tr>\n",
              "  </tbody>\n",
              "</table>\n",
              "</div>"
            ],
            "text/plain": [
              "   age  capital-gain  capital-loss  hours-per-week\n",
              "0   25             0             0              40\n",
              "1   38             0             0              50\n",
              "2   28             0             0              40\n",
              "3   44          7688             0              40\n",
              "4   18             0             0              30"
            ]
          },
          "execution_count": 8,
          "metadata": {},
          "output_type": "execute_result"
        }
      ],
      "source": [
        "numerical_columns = [\"age\", \"capital-gain\", \"capital-loss\", \"hours-per-week\"]\n",
        "data[numerical_columns].head()"
      ]
    },
    {
      "cell_type": "markdown",
      "id": "9c634581",
      "metadata": {
        "id": "9c634581"
      },
      "source": [
        "Now that we limited the dataset to numerical columns only,\n",
        "we can analyse these numbers to figure out what they represent. We can\n",
        "identify two types of usage.\n",
        "\n",
        "The first column, `\"age\"`, is self-explanatory. We can note that the values\n",
        "are continuous, meaning they can take up any number in a given range. Let's\n",
        "find out what this range is:"
      ]
    },
    {
      "cell_type": "code",
      "execution_count": null,
      "id": "908ac969",
      "metadata": {
        "id": "908ac969",
        "outputId": "ae5f5529-ecd1-4dda-a28e-0ad0feb9b88c"
      },
      "outputs": [
        {
          "data": {
            "text/plain": [
              "count    48842.000000\n",
              "mean        38.643585\n",
              "std         13.710510\n",
              "min         17.000000\n",
              "25%         28.000000\n",
              "50%         37.000000\n",
              "75%         48.000000\n",
              "max         90.000000\n",
              "Name: age, dtype: float64"
            ]
          },
          "execution_count": 9,
          "metadata": {},
          "output_type": "execute_result"
        }
      ],
      "source": [
        "data[\"age\"].describe()"
      ]
    },
    {
      "cell_type": "markdown",
      "id": "38814ed0",
      "metadata": {
        "id": "38814ed0"
      },
      "source": [
        "We can see the age varies between 17 and 90 years.\n",
        "\n",
        "We could extend our analysis and we will find that `\"capital-gain\"`,\n",
        "`\"capital-loss\"`, and `\"hours-per-week\"` are also representing quantitative\n",
        "data.\n",
        "\n",
        "Now, we store the subset of numerical columns in a new dataframe."
      ]
    },
    {
      "cell_type": "code",
      "execution_count": null,
      "id": "f31bca96",
      "metadata": {
        "id": "f31bca96"
      },
      "outputs": [],
      "source": [
        "data_numeric = data[numerical_columns]"
      ]
    },
    {
      "cell_type": "markdown",
      "id": "4de31c00",
      "metadata": {
        "id": "4de31c00"
      },
      "source": [
        "## Train-test split the dataset\n",
        "\n",
        "In the previous notebook, we loaded two separate datasets: a training one and\n",
        "a testing one. However, having separate datasets in two distincts files is\n",
        "unusual: most of the time, we have a single file containing all the data that\n",
        "we need to split once loaded in the memory.\n",
        "\n",
        "Scikit-learn provides the helper function\n",
        "`sklearn.model_selection.train_test_split` which is used to automatically\n",
        "split the dataset into two subsets."
      ]
    },
    {
      "cell_type": "code",
      "execution_count": null,
      "id": "67ea712c",
      "metadata": {
        "id": "67ea712c"
      },
      "outputs": [],
      "source": [
        "from sklearn.model_selection import train_test_split\n",
        "\n",
        "data_train, data_test, target_train, target_test = train_test_split(\n",
        "    data_numeric, target, random_state=42, test_size=0.25)"
      ]
    },
    {
      "cell_type": "markdown",
      "id": "74750bd8",
      "metadata": {
        "id": "74750bd8"
      },
      "source": [
        "<div class=\"admonition tip alert alert-warning\">\n",
        "<p class=\"first admonition-title\" style=\"font-weight: bold;\">Tip</p>\n",
        "<p class=\"last\">In scikit-learn setting the <tt class=\"docutils literal\">random_state</tt> parameter allows to get\n",
        "deterministic results when we use a random number generator. In the\n",
        "<tt class=\"docutils literal\">train_test_split</tt> case the randomness comes from shuffling the data, which\n",
        "decides how the dataset is split into a train and a test set).</p>\n",
        "</div>"
      ]
    },
    {
      "cell_type": "markdown",
      "id": "23c7204e",
      "metadata": {
        "id": "23c7204e"
      },
      "source": [
        "When calling the function `train_test_split`, we specified that we would like\n",
        "to have 25% of samples in the testing set while the remaining samples (75%)\n",
        "will be available in the training set. We can check quickly if we got\n",
        "what we expected."
      ]
    },
    {
      "cell_type": "code",
      "execution_count": null,
      "id": "6c6a835b",
      "metadata": {
        "id": "6c6a835b",
        "outputId": "3197e1a4-2995-4462-b6b4-dc1eda2b8172"
      },
      "outputs": [
        {
          "name": "stdout",
          "output_type": "stream",
          "text": [
            "Number of samples in testing: 12211 => 25.0% of the original set\n"
          ]
        }
      ],
      "source": [
        "print(f\"Number of samples in testing: {data_test.shape[0]} => \"\n",
        "      f\"{data_test.shape[0] / data_numeric.shape[0] * 100:.1f}% of the\"\n",
        "      f\" original set\")"
      ]
    },
    {
      "cell_type": "code",
      "execution_count": null,
      "id": "8869ec68",
      "metadata": {
        "id": "8869ec68",
        "outputId": "ff8ed796-ed64-4604-8d2d-0d0fecfa9a7b"
      },
      "outputs": [
        {
          "name": "stdout",
          "output_type": "stream",
          "text": [
            "Number of samples in training: 36631 => 75.0% of the original set\n"
          ]
        }
      ],
      "source": [
        "print(f\"Number of samples in training: {data_train.shape[0]} => \"\n",
        "      f\"{data_train.shape[0] / data_numeric.shape[0] * 100:.1f}% of the\"\n",
        "      f\" original set\")"
      ]
    },
    {
      "cell_type": "markdown",
      "id": "f0900d3a",
      "metadata": {
        "id": "f0900d3a"
      },
      "source": [
        "In the previous notebook, we used a k-nearest neighbors model. While this\n",
        "model is intuitive to understand, it is not widely used in practice. Now, we\n",
        "will use a more useful model, called a logistic regression, which belongs to\n",
        "the linear models family.\n",
        "\n",
        "<div class=\"admonition note alert alert-info\">\n",
        "<p class=\"first admonition-title\" style=\"font-weight: bold;\">Note</p>\n",
        "<p>In short, linear models find a set of weights to combine features linearly\n",
        "and predict the target. For instance, the model can come up with a rule such\n",
        "as:</p>\n",
        "<ul class=\"simple\">\n",
        "<li>if <tt class=\"docutils literal\">0.1 * age + 3.3 * <span class=\"pre\">hours-per-week</span> - 15.1 &gt; 0</tt>, predict <tt class=\"docutils literal\"><span class=\"pre\">high-income</span></tt></li>\n",
        "<li>otherwise predict <tt class=\"docutils literal\"><span class=\"pre\">low-income</span></tt></li>\n",
        "</ul>\n",
        "<p class=\"last\">Linear models, and in particular the logistic regression, will be covered in\n",
        "more details in the \"Linear models\" module later in this course. For now the\n",
        "focus is to use this logistic regression model in scikit-learn rather than\n",
        "understand how it works in details.</p>\n",
        "</div>\n",
        "\n",
        "To create a logistic regression model in scikit-learn you can do:"
      ]
    },
    {
      "cell_type": "code",
      "execution_count": null,
      "id": "3c523f90",
      "metadata": {
        "id": "3c523f90"
      },
      "outputs": [],
      "source": [
        "# to display nice model diagram\n",
        "from sklearn import set_config\n",
        "set_config(display='diagram')"
      ]
    },
    {
      "cell_type": "code",
      "execution_count": null,
      "id": "53fbfcc2",
      "metadata": {
        "id": "53fbfcc2"
      },
      "outputs": [],
      "source": [
        "from sklearn.linear_model import LogisticRegression\n",
        "\n",
        "model = LogisticRegression()"
      ]
    },
    {
      "cell_type": "markdown",
      "id": "449a48d5",
      "metadata": {
        "id": "449a48d5"
      },
      "source": [
        "Now that the model has been created, you can use it exactly the same way as\n",
        "we used the k-nearest neighbors model in the previous notebook. In\n",
        "particular, we can use the `fit` method to train the model using the training\n",
        "data and labels:"
      ]
    },
    {
      "cell_type": "code",
      "execution_count": null,
      "id": "cefeb879",
      "metadata": {
        "id": "cefeb879",
        "outputId": "dc16b3d2-fbb9-4d85-f3fc-d467b2ae6aa6"
      },
      "outputs": [
        {
          "data": {
            "text/html": [
              "<style>#sk-98deda17-55bb-406e-9ae5-c8f5e7c1be48 {color: black;background-color: white;}#sk-98deda17-55bb-406e-9ae5-c8f5e7c1be48 pre{padding: 0;}#sk-98deda17-55bb-406e-9ae5-c8f5e7c1be48 div.sk-toggleable {background-color: white;}#sk-98deda17-55bb-406e-9ae5-c8f5e7c1be48 label.sk-toggleable__label {cursor: pointer;display: block;width: 100%;margin-bottom: 0;padding: 0.3em;box-sizing: border-box;text-align: center;}#sk-98deda17-55bb-406e-9ae5-c8f5e7c1be48 label.sk-toggleable__label-arrow:before {content: \"▸\";float: left;margin-right: 0.25em;color: #696969;}#sk-98deda17-55bb-406e-9ae5-c8f5e7c1be48 label.sk-toggleable__label-arrow:hover:before {color: black;}#sk-98deda17-55bb-406e-9ae5-c8f5e7c1be48 div.sk-estimator:hover label.sk-toggleable__label-arrow:before {color: black;}#sk-98deda17-55bb-406e-9ae5-c8f5e7c1be48 div.sk-toggleable__content {max-height: 0;max-width: 0;overflow: hidden;text-align: left;background-color: #f0f8ff;}#sk-98deda17-55bb-406e-9ae5-c8f5e7c1be48 div.sk-toggleable__content pre {margin: 0.2em;color: black;border-radius: 0.25em;background-color: #f0f8ff;}#sk-98deda17-55bb-406e-9ae5-c8f5e7c1be48 input.sk-toggleable__control:checked~div.sk-toggleable__content {max-height: 200px;max-width: 100%;overflow: auto;}#sk-98deda17-55bb-406e-9ae5-c8f5e7c1be48 input.sk-toggleable__control:checked~label.sk-toggleable__label-arrow:before {content: \"▾\";}#sk-98deda17-55bb-406e-9ae5-c8f5e7c1be48 div.sk-estimator input.sk-toggleable__control:checked~label.sk-toggleable__label {background-color: #d4ebff;}#sk-98deda17-55bb-406e-9ae5-c8f5e7c1be48 div.sk-label input.sk-toggleable__control:checked~label.sk-toggleable__label {background-color: #d4ebff;}#sk-98deda17-55bb-406e-9ae5-c8f5e7c1be48 input.sk-hidden--visually {border: 0;clip: rect(1px 1px 1px 1px);clip: rect(1px, 1px, 1px, 1px);height: 1px;margin: -1px;overflow: hidden;padding: 0;position: absolute;width: 1px;}#sk-98deda17-55bb-406e-9ae5-c8f5e7c1be48 div.sk-estimator {font-family: monospace;background-color: #f0f8ff;border: 1px dotted black;border-radius: 0.25em;box-sizing: border-box;margin-bottom: 0.5em;}#sk-98deda17-55bb-406e-9ae5-c8f5e7c1be48 div.sk-estimator:hover {background-color: #d4ebff;}#sk-98deda17-55bb-406e-9ae5-c8f5e7c1be48 div.sk-parallel-item::after {content: \"\";width: 100%;border-bottom: 1px solid gray;flex-grow: 1;}#sk-98deda17-55bb-406e-9ae5-c8f5e7c1be48 div.sk-label:hover label.sk-toggleable__label {background-color: #d4ebff;}#sk-98deda17-55bb-406e-9ae5-c8f5e7c1be48 div.sk-serial::before {content: \"\";position: absolute;border-left: 1px solid gray;box-sizing: border-box;top: 2em;bottom: 0;left: 50%;}#sk-98deda17-55bb-406e-9ae5-c8f5e7c1be48 div.sk-serial {display: flex;flex-direction: column;align-items: center;background-color: white;padding-right: 0.2em;padding-left: 0.2em;}#sk-98deda17-55bb-406e-9ae5-c8f5e7c1be48 div.sk-item {z-index: 1;}#sk-98deda17-55bb-406e-9ae5-c8f5e7c1be48 div.sk-parallel {display: flex;align-items: stretch;justify-content: center;background-color: white;}#sk-98deda17-55bb-406e-9ae5-c8f5e7c1be48 div.sk-parallel::before {content: \"\";position: absolute;border-left: 1px solid gray;box-sizing: border-box;top: 2em;bottom: 0;left: 50%;}#sk-98deda17-55bb-406e-9ae5-c8f5e7c1be48 div.sk-parallel-item {display: flex;flex-direction: column;position: relative;background-color: white;}#sk-98deda17-55bb-406e-9ae5-c8f5e7c1be48 div.sk-parallel-item:first-child::after {align-self: flex-end;width: 50%;}#sk-98deda17-55bb-406e-9ae5-c8f5e7c1be48 div.sk-parallel-item:last-child::after {align-self: flex-start;width: 50%;}#sk-98deda17-55bb-406e-9ae5-c8f5e7c1be48 div.sk-parallel-item:only-child::after {width: 0;}#sk-98deda17-55bb-406e-9ae5-c8f5e7c1be48 div.sk-dashed-wrapped {border: 1px dashed gray;margin: 0 0.4em 0.5em 0.4em;box-sizing: border-box;padding-bottom: 0.4em;background-color: white;position: relative;}#sk-98deda17-55bb-406e-9ae5-c8f5e7c1be48 div.sk-label label {font-family: monospace;font-weight: bold;background-color: white;display: inline-block;line-height: 1.2em;}#sk-98deda17-55bb-406e-9ae5-c8f5e7c1be48 div.sk-label-container {position: relative;z-index: 2;text-align: center;}#sk-98deda17-55bb-406e-9ae5-c8f5e7c1be48 div.sk-container {/* jupyter's `normalize.less` sets `[hidden] { display: none; }` but bootstrap.min.css set `[hidden] { display: none !important; }` so we also need the `!important` here to be able to override the default hidden behavior on the sphinx rendered scikit-learn.org. See: https://github.com/scikit-learn/scikit-learn/issues/21755 */display: inline-block !important;position: relative;}#sk-98deda17-55bb-406e-9ae5-c8f5e7c1be48 div.sk-text-repr-fallback {display: none;}</style><div id=\"sk-98deda17-55bb-406e-9ae5-c8f5e7c1be48\" class=\"sk-top-container\"><div class=\"sk-text-repr-fallback\"><pre>LogisticRegression()</pre><b>Please rerun this cell to show the HTML repr or trust the notebook.</b></div><div class=\"sk-container\" hidden><div class=\"sk-item\"><div class=\"sk-estimator sk-toggleable\"><input class=\"sk-toggleable__control sk-hidden--visually\" id=\"cd29e82e-b37e-4a9a-a07f-5854061e9807\" type=\"checkbox\" checked><label for=\"cd29e82e-b37e-4a9a-a07f-5854061e9807\" class=\"sk-toggleable__label sk-toggleable__label-arrow\">LogisticRegression</label><div class=\"sk-toggleable__content\"><pre>LogisticRegression()</pre></div></div></div></div></div>"
            ],
            "text/plain": [
              "LogisticRegression()"
            ]
          },
          "execution_count": 16,
          "metadata": {},
          "output_type": "execute_result"
        }
      ],
      "source": [
        "model.fit(data_train, target_train)"
      ]
    },
    {
      "cell_type": "markdown",
      "id": "a8104468",
      "metadata": {
        "id": "a8104468"
      },
      "source": [
        "We can also use the `score` method to check the model generalization performance\n",
        "on the test set."
      ]
    },
    {
      "cell_type": "code",
      "execution_count": null,
      "id": "56a05b18",
      "metadata": {
        "id": "56a05b18",
        "outputId": "8f4ad48d-09ad-4766-82be-035e2c1409cb"
      },
      "outputs": [
        {
          "name": "stdout",
          "output_type": "stream",
          "text": [
            "Accuracy of logistic regression: 0.807\n"
          ]
        }
      ],
      "source": [
        "accuracy = model.score(data_test, target_test)\n",
        "print(f\"Accuracy of logistic regression: {accuracy:.3f}\")"
      ]
    },
    {
      "cell_type": "markdown",
      "id": "59fc08a4",
      "metadata": {
        "id": "59fc08a4"
      },
      "source": [
        "Now the real question is: is this generalization performance relevant of a good\n",
        "predictive model? Find out by solving the next exercise!\n",
        "\n",
        "In this notebook, we learned to:\n",
        "\n",
        "* identify numerical data in a heterogeneous dataset;\n",
        "* select the subset of columns corresponding to numerical data;\n",
        "* use the scikit-learn `train_test_split` function to separate data into\n",
        "  a train and a test set;\n",
        "* train and evaluate a logistic regression model."
      ]
    }
  ],
  "metadata": {
    "jupytext": {
      "cell_metadata_filter": "-all",
      "main_language": "python",
      "notebook_metadata_filter": "-all"
    },
    "kernelspec": {
      "display_name": "Python 3 (ipykernel)",
      "language": "python",
      "name": "python3"
    },
    "language_info": {
      "codemirror_mode": {
        "name": "ipython",
        "version": 3
      },
      "file_extension": ".py",
      "mimetype": "text/x-python",
      "name": "python",
      "nbconvert_exporter": "python",
      "pygments_lexer": "ipython3",
      "version": "3.9.7"
    },
    "nbreset": "https://github.com/INRIA/scikit-learn-mooc/raw/main/notebooks/02_numerical_pipeline_hands_on.ipynb",
    "colab": {
      "name": "02_numerical_pipeline_hands_on.ipynb",
      "provenance": [],
      "include_colab_link": true
    }
  },
  "nbformat": 4,
  "nbformat_minor": 5
}