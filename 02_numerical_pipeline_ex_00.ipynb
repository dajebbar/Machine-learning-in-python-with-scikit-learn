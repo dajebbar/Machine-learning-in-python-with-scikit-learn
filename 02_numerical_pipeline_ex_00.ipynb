{
  "cells": [
    {
      "cell_type": "markdown",
      "metadata": {
        "id": "view-in-github",
        "colab_type": "text"
      },
      "source": [
        "<a href=\"https://colab.research.google.com/github/dajebbar/Machine-learning-in-python-with-scikit-learn/blob/main/02_numerical_pipeline_ex_00.ipynb\" target=\"_parent\"><img src=\"https://colab.research.google.com/assets/colab-badge.svg\" alt=\"Open In Colab\"/></a>"
      ]
    },
    {
      "cell_type": "markdown",
      "id": "0e563558",
      "metadata": {
        "id": "0e563558"
      },
      "source": [
        "# 📝 Exercise M1.02\n",
        "\n",
        "The goal of this exercise is to fit a similar model as in the previous\n",
        "notebook to get familiar with manipulating scikit-learn objects and in\n",
        "particular the `.fit/.predict/.score` API."
      ]
    },
    {
      "cell_type": "markdown",
      "id": "7a2cb944",
      "metadata": {
        "id": "7a2cb944"
      },
      "source": [
        "Let's load the adult census dataset with only numerical variables"
      ]
    },
    {
      "cell_type": "code",
      "execution_count": null,
      "id": "605bdee6",
      "metadata": {
        "id": "605bdee6"
      },
      "outputs": [],
      "source": [
        "import pandas as pd\n",
        "adult_census = pd.read_csv(\"../datasets/adult-census-numeric.csv\")\n",
        "data = adult_census.drop(columns=\"class\")\n",
        "target = adult_census[\"class\"]"
      ]
    },
    {
      "cell_type": "markdown",
      "id": "a678ca33",
      "metadata": {
        "id": "a678ca33"
      },
      "source": [
        "In the previous notebook we used `model = KNeighborsClassifier()`. All\n",
        "scikit-learn models can be created without arguments, which means that you\n",
        "don't need to understand the details of the model to use it in scikit-learn.\n",
        "\n",
        "One of the `KNeighborsClassifier` parameters is `n_neighbors`. It controls\n",
        "the number of neighbors we are going to use to make a prediction for a new\n",
        "data point.\n",
        "\n",
        "What is the default value of the `n_neighbors` parameter? Hint: Look at the\n",
        "documentation on the [scikit-learn\n",
        "website](https://scikit-learn.org/stable/modules/generated/sklearn.neighbors.KNeighborsClassifier.html)\n",
        "or directly access the description inside your notebook by running the\n",
        "following cell. This will open a pager pointing to the documentation."
      ]
    },
    {
      "cell_type": "code",
      "execution_count": null,
      "id": "36d5ceec",
      "metadata": {
        "id": "36d5ceec"
      },
      "outputs": [],
      "source": [
        "from sklearn.neighbors import KNeighborsClassifier\n",
        "\n",
        "KNeighborsClassifier? # n_neighbors=5"
      ]
    },
    {
      "cell_type": "markdown",
      "id": "85fc7f6c",
      "metadata": {
        "id": "85fc7f6c"
      },
      "source": [
        "Create a `KNeighborsClassifier` model with `n_neighbors=50`"
      ]
    },
    {
      "cell_type": "code",
      "execution_count": null,
      "id": "33f4070e",
      "metadata": {
        "id": "33f4070e"
      },
      "outputs": [],
      "source": [
        "# Write your code here.\n",
        "\n",
        "model = KNeighborsClassifier(n_neighbors=50)"
      ]
    },
    {
      "cell_type": "markdown",
      "id": "2bced509",
      "metadata": {
        "id": "2bced509"
      },
      "source": [
        "Fit this model on the data and target loaded above"
      ]
    },
    {
      "cell_type": "code",
      "execution_count": null,
      "id": "848fc89a",
      "metadata": {
        "id": "848fc89a",
        "outputId": "551b8896-fd64-4d8c-b6b0-16460b3180c8"
      },
      "outputs": [
        {
          "data": {
            "text/plain": [
              "KNeighborsClassifier(n_neighbors=50)"
            ]
          },
          "execution_count": 4,
          "metadata": {},
          "output_type": "execute_result"
        }
      ],
      "source": [
        "# Write your code here.\n",
        "model.fit(data, target)"
      ]
    },
    {
      "cell_type": "markdown",
      "id": "245fc601",
      "metadata": {
        "id": "245fc601"
      },
      "source": [
        "Use your model to make predictions on the first 10 data points inside the\n",
        "data. Do they match the actual target values?"
      ]
    },
    {
      "cell_type": "code",
      "execution_count": null,
      "id": "56c48308",
      "metadata": {
        "id": "56c48308",
        "outputId": "87476b59-9686-4d5b-8114-83fc2407b2d8"
      },
      "outputs": [
        {
          "data": {
            "text/html": [
              "<div>\n",
              "<style scoped>\n",
              "    .dataframe tbody tr th:only-of-type {\n",
              "        vertical-align: middle;\n",
              "    }\n",
              "\n",
              "    .dataframe tbody tr th {\n",
              "        vertical-align: top;\n",
              "    }\n",
              "\n",
              "    .dataframe thead th {\n",
              "        text-align: right;\n",
              "    }\n",
              "</style>\n",
              "<table border=\"1\" class=\"dataframe\">\n",
              "  <thead>\n",
              "    <tr style=\"text-align: right;\">\n",
              "      <th></th>\n",
              "      <th>age</th>\n",
              "      <th>capital-gain</th>\n",
              "      <th>capital-loss</th>\n",
              "      <th>hours-per-week</th>\n",
              "    </tr>\n",
              "  </thead>\n",
              "  <tbody>\n",
              "    <tr>\n",
              "      <th>0</th>\n",
              "      <td>41</td>\n",
              "      <td>0</td>\n",
              "      <td>0</td>\n",
              "      <td>92</td>\n",
              "    </tr>\n",
              "    <tr>\n",
              "      <th>1</th>\n",
              "      <td>48</td>\n",
              "      <td>0</td>\n",
              "      <td>0</td>\n",
              "      <td>40</td>\n",
              "    </tr>\n",
              "    <tr>\n",
              "      <th>2</th>\n",
              "      <td>60</td>\n",
              "      <td>0</td>\n",
              "      <td>0</td>\n",
              "      <td>25</td>\n",
              "    </tr>\n",
              "    <tr>\n",
              "      <th>3</th>\n",
              "      <td>37</td>\n",
              "      <td>0</td>\n",
              "      <td>0</td>\n",
              "      <td>45</td>\n",
              "    </tr>\n",
              "    <tr>\n",
              "      <th>4</th>\n",
              "      <td>73</td>\n",
              "      <td>3273</td>\n",
              "      <td>0</td>\n",
              "      <td>40</td>\n",
              "    </tr>\n",
              "    <tr>\n",
              "      <th>5</th>\n",
              "      <td>57</td>\n",
              "      <td>0</td>\n",
              "      <td>0</td>\n",
              "      <td>72</td>\n",
              "    </tr>\n",
              "    <tr>\n",
              "      <th>6</th>\n",
              "      <td>22</td>\n",
              "      <td>0</td>\n",
              "      <td>0</td>\n",
              "      <td>35</td>\n",
              "    </tr>\n",
              "    <tr>\n",
              "      <th>7</th>\n",
              "      <td>55</td>\n",
              "      <td>27828</td>\n",
              "      <td>0</td>\n",
              "      <td>55</td>\n",
              "    </tr>\n",
              "    <tr>\n",
              "      <th>8</th>\n",
              "      <td>45</td>\n",
              "      <td>0</td>\n",
              "      <td>0</td>\n",
              "      <td>40</td>\n",
              "    </tr>\n",
              "    <tr>\n",
              "      <th>9</th>\n",
              "      <td>36</td>\n",
              "      <td>0</td>\n",
              "      <td>0</td>\n",
              "      <td>50</td>\n",
              "    </tr>\n",
              "  </tbody>\n",
              "</table>\n",
              "</div>"
            ],
            "text/plain": [
              "   age  capital-gain  capital-loss  hours-per-week\n",
              "0   41             0             0              92\n",
              "1   48             0             0              40\n",
              "2   60             0             0              25\n",
              "3   37             0             0              45\n",
              "4   73          3273             0              40\n",
              "5   57             0             0              72\n",
              "6   22             0             0              35\n",
              "7   55         27828             0              55\n",
              "8   45             0             0              40\n",
              "9   36             0             0              50"
            ]
          },
          "execution_count": 6,
          "metadata": {},
          "output_type": "execute_result"
        }
      ],
      "source": [
        "data[:10]"
      ]
    },
    {
      "cell_type": "code",
      "execution_count": null,
      "id": "aa750e6a",
      "metadata": {
        "id": "aa750e6a"
      },
      "outputs": [],
      "source": [
        "# Write your code here.\n",
        "preds = model.predict(data[:10])"
      ]
    },
    {
      "cell_type": "code",
      "execution_count": null,
      "id": "3dee9687",
      "metadata": {
        "id": "3dee9687",
        "outputId": "fb59b0dd-8a1c-4678-bce9-4fa19ea62f9e"
      },
      "outputs": [
        {
          "data": {
            "text/plain": [
              "0     True\n",
              "1     True\n",
              "2     True\n",
              "3     True\n",
              "4     True\n",
              "5     True\n",
              "6     True\n",
              "7     True\n",
              "8     True\n",
              "9    False\n",
              "Name: class, dtype: bool"
            ]
          },
          "execution_count": 12,
          "metadata": {},
          "output_type": "execute_result"
        }
      ],
      "source": [
        "preds == target[:10]"
      ]
    },
    {
      "cell_type": "code",
      "execution_count": null,
      "id": "823042db",
      "metadata": {
        "id": "823042db",
        "outputId": "08a52704-e033-45c9-c710-920948936b15"
      },
      "outputs": [
        {
          "data": {
            "text/plain": [
              "90.0"
            ]
          },
          "execution_count": 9,
          "metadata": {},
          "output_type": "execute_result"
        }
      ],
      "source": [
        "(preds == target[:10]).sum() / len(preds) * 100"
      ]
    },
    {
      "cell_type": "markdown",
      "id": "d6840fdd",
      "metadata": {
        "id": "d6840fdd"
      },
      "source": [
        "Compute the accuracy on the training data."
      ]
    },
    {
      "cell_type": "code",
      "execution_count": null,
      "id": "76fcde5c",
      "metadata": {
        "id": "76fcde5c",
        "outputId": "f6fe3e3b-e326-468c-c7d1-e420a6d0b1f7"
      },
      "outputs": [
        {
          "data": {
            "text/plain": [
              "0.8290379545978042"
            ]
          },
          "execution_count": 11,
          "metadata": {},
          "output_type": "execute_result"
        }
      ],
      "source": [
        "# Write your code here.\n",
        "accuracy = model.score(data, target)\n",
        "accuracy"
      ]
    },
    {
      "cell_type": "markdown",
      "id": "ac779f96",
      "metadata": {
        "id": "ac779f96"
      },
      "source": [
        "Now load the test data from `\"../datasets/adult-census-numeric-test.csv\"` and\n",
        "compute the accuracy on the test data."
      ]
    },
    {
      "cell_type": "code",
      "execution_count": null,
      "id": "f7694be9",
      "metadata": {
        "id": "f7694be9",
        "outputId": "d9066d8a-1b22-4224-e329-1c0bb4655001"
      },
      "outputs": [
        {
          "data": {
            "text/html": [
              "<div>\n",
              "<style scoped>\n",
              "    .dataframe tbody tr th:only-of-type {\n",
              "        vertical-align: middle;\n",
              "    }\n",
              "\n",
              "    .dataframe tbody tr th {\n",
              "        vertical-align: top;\n",
              "    }\n",
              "\n",
              "    .dataframe thead th {\n",
              "        text-align: right;\n",
              "    }\n",
              "</style>\n",
              "<table border=\"1\" class=\"dataframe\">\n",
              "  <thead>\n",
              "    <tr style=\"text-align: right;\">\n",
              "      <th></th>\n",
              "      <th>age</th>\n",
              "      <th>capital-gain</th>\n",
              "      <th>capital-loss</th>\n",
              "      <th>hours-per-week</th>\n",
              "      <th>class</th>\n",
              "    </tr>\n",
              "  </thead>\n",
              "  <tbody>\n",
              "    <tr>\n",
              "      <th>0</th>\n",
              "      <td>20</td>\n",
              "      <td>0</td>\n",
              "      <td>0</td>\n",
              "      <td>35</td>\n",
              "      <td>&lt;=50K</td>\n",
              "    </tr>\n",
              "    <tr>\n",
              "      <th>1</th>\n",
              "      <td>53</td>\n",
              "      <td>0</td>\n",
              "      <td>0</td>\n",
              "      <td>72</td>\n",
              "      <td>&gt;50K</td>\n",
              "    </tr>\n",
              "    <tr>\n",
              "      <th>2</th>\n",
              "      <td>41</td>\n",
              "      <td>0</td>\n",
              "      <td>0</td>\n",
              "      <td>50</td>\n",
              "      <td>&gt;50K</td>\n",
              "    </tr>\n",
              "    <tr>\n",
              "      <th>3</th>\n",
              "      <td>20</td>\n",
              "      <td>0</td>\n",
              "      <td>0</td>\n",
              "      <td>40</td>\n",
              "      <td>&lt;=50K</td>\n",
              "    </tr>\n",
              "    <tr>\n",
              "      <th>4</th>\n",
              "      <td>25</td>\n",
              "      <td>0</td>\n",
              "      <td>0</td>\n",
              "      <td>40</td>\n",
              "      <td>&lt;=50K</td>\n",
              "    </tr>\n",
              "  </tbody>\n",
              "</table>\n",
              "</div>"
            ],
            "text/plain": [
              "   age  capital-gain  capital-loss  hours-per-week   class\n",
              "0   20             0             0              35   <=50K\n",
              "1   53             0             0              72    >50K\n",
              "2   41             0             0              50    >50K\n",
              "3   20             0             0              40   <=50K\n",
              "4   25             0             0              40   <=50K"
            ]
          },
          "execution_count": 13,
          "metadata": {},
          "output_type": "execute_result"
        }
      ],
      "source": [
        "# Write your code here.\n",
        "df = pd.read_csv('../datasets/adult-census-numeric-test.csv')\n",
        "df.head()"
      ]
    },
    {
      "cell_type": "code",
      "execution_count": null,
      "id": "06ecdbf0",
      "metadata": {
        "id": "06ecdbf0",
        "outputId": "12074f9f-1b9c-402a-fb34-cf871d111d98"
      },
      "outputs": [
        {
          "data": {
            "text/plain": [
              "((9769, 4), (9769,))"
            ]
          },
          "execution_count": 14,
          "metadata": {},
          "output_type": "execute_result"
        }
      ],
      "source": [
        "X_test = df.drop(columns=['class'])\n",
        "y_test = df['class']\n",
        "\n",
        "X_test.shape, y_test.shape"
      ]
    },
    {
      "cell_type": "code",
      "execution_count": null,
      "id": "0984253c",
      "metadata": {
        "id": "0984253c",
        "outputId": "e7b4d82f-b6c9-4444-f5af-890de3df1bb7"
      },
      "outputs": [
        {
          "data": {
            "text/plain": [
              "0.8177909714402702"
            ]
          },
          "execution_count": 15,
          "metadata": {},
          "output_type": "execute_result"
        }
      ],
      "source": [
        "model.score(X_test, y_test)"
      ]
    },
    {
      "cell_type": "code",
      "execution_count": null,
      "id": "feecb293",
      "metadata": {
        "id": "feecb293"
      },
      "outputs": [],
      "source": [
        ""
      ]
    }
  ],
  "metadata": {
    "jupytext": {
      "encoding": "# -*- coding: utf-8 -*-"
    },
    "kernelspec": {
      "display_name": "Python 3 (ipykernel)",
      "language": "python",
      "name": "python3"
    },
    "language_info": {
      "codemirror_mode": {
        "name": "ipython",
        "version": 3
      },
      "file_extension": ".py",
      "mimetype": "text/x-python",
      "name": "python",
      "nbconvert_exporter": "python",
      "pygments_lexer": "ipython3",
      "version": "3.9.7"
    },
    "nbreset": "https://github.com/INRIA/scikit-learn-mooc/raw/main/notebooks/02_numerical_pipeline_ex_00.ipynb",
    "colab": {
      "name": "02_numerical_pipeline_ex_00.ipynb",
      "provenance": [],
      "include_colab_link": true
    }
  },
  "nbformat": 4,
  "nbformat_minor": 5
}