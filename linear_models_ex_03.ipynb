{
 "cells": [
  {
   "cell_type": "markdown",
   "id": "e12a4084",
   "metadata": {},
   "source": [
    "# 📝 Exercise M4.03\n",
    "\n",
    "In all previous notebooks, we only used a single feature in `data`. But we\n",
    "have already shown that we could add new features to make the model more\n",
    "expressive by deriving new features, based on the original feature.\n",
    "\n",
    "The aim of this notebook is to train a linear regression algorithm on a\n",
    "dataset with more than a single feature.\n",
    "\n",
    "We will load a dataset about house prices in California.\n",
    "The dataset consists of 8 features regarding the demography and geography of\n",
    "districts in California and the aim is to predict the median house price of\n",
    "each district. We will use all 8 features to predict the target, the median\n",
    "house price."
   ]
  },
  {
   "cell_type": "markdown",
   "id": "dc519812",
   "metadata": {},
   "source": [
    "<div class=\"admonition note alert alert-info\">\n",
    "<p class=\"first admonition-title\" style=\"font-weight: bold;\">Note</p>\n",
    "<p class=\"last\">If you want a deeper overview regarding this dataset, you can refer to the\n",
    "Appendix - Datasets description section at the end of this MOOC.</p>\n",
    "</div>"
   ]
  },
  {
   "cell_type": "code",
   "execution_count": 1,
   "id": "164eba71",
   "metadata": {},
   "outputs": [
    {
     "data": {
      "text/html": [
       "<div>\n",
       "<style scoped>\n",
       "    .dataframe tbody tr th:only-of-type {\n",
       "        vertical-align: middle;\n",
       "    }\n",
       "\n",
       "    .dataframe tbody tr th {\n",
       "        vertical-align: top;\n",
       "    }\n",
       "\n",
       "    .dataframe thead th {\n",
       "        text-align: right;\n",
       "    }\n",
       "</style>\n",
       "<table border=\"1\" class=\"dataframe\">\n",
       "  <thead>\n",
       "    <tr style=\"text-align: right;\">\n",
       "      <th></th>\n",
       "      <th>MedInc</th>\n",
       "      <th>HouseAge</th>\n",
       "      <th>AveRooms</th>\n",
       "      <th>AveBedrms</th>\n",
       "      <th>Population</th>\n",
       "      <th>AveOccup</th>\n",
       "      <th>Latitude</th>\n",
       "      <th>Longitude</th>\n",
       "    </tr>\n",
       "  </thead>\n",
       "  <tbody>\n",
       "    <tr>\n",
       "      <th>0</th>\n",
       "      <td>8.3252</td>\n",
       "      <td>41.0</td>\n",
       "      <td>6.984127</td>\n",
       "      <td>1.023810</td>\n",
       "      <td>322.0</td>\n",
       "      <td>2.555556</td>\n",
       "      <td>37.88</td>\n",
       "      <td>-122.23</td>\n",
       "    </tr>\n",
       "    <tr>\n",
       "      <th>1</th>\n",
       "      <td>8.3014</td>\n",
       "      <td>21.0</td>\n",
       "      <td>6.238137</td>\n",
       "      <td>0.971880</td>\n",
       "      <td>2401.0</td>\n",
       "      <td>2.109842</td>\n",
       "      <td>37.86</td>\n",
       "      <td>-122.22</td>\n",
       "    </tr>\n",
       "    <tr>\n",
       "      <th>2</th>\n",
       "      <td>7.2574</td>\n",
       "      <td>52.0</td>\n",
       "      <td>8.288136</td>\n",
       "      <td>1.073446</td>\n",
       "      <td>496.0</td>\n",
       "      <td>2.802260</td>\n",
       "      <td>37.85</td>\n",
       "      <td>-122.24</td>\n",
       "    </tr>\n",
       "    <tr>\n",
       "      <th>3</th>\n",
       "      <td>5.6431</td>\n",
       "      <td>52.0</td>\n",
       "      <td>5.817352</td>\n",
       "      <td>1.073059</td>\n",
       "      <td>558.0</td>\n",
       "      <td>2.547945</td>\n",
       "      <td>37.85</td>\n",
       "      <td>-122.25</td>\n",
       "    </tr>\n",
       "    <tr>\n",
       "      <th>4</th>\n",
       "      <td>3.8462</td>\n",
       "      <td>52.0</td>\n",
       "      <td>6.281853</td>\n",
       "      <td>1.081081</td>\n",
       "      <td>565.0</td>\n",
       "      <td>2.181467</td>\n",
       "      <td>37.85</td>\n",
       "      <td>-122.25</td>\n",
       "    </tr>\n",
       "  </tbody>\n",
       "</table>\n",
       "</div>"
      ],
      "text/plain": [
       "   MedInc  HouseAge  AveRooms  AveBedrms  Population  AveOccup  Latitude  \\\n",
       "0  8.3252      41.0  6.984127   1.023810       322.0  2.555556     37.88   \n",
       "1  8.3014      21.0  6.238137   0.971880      2401.0  2.109842     37.86   \n",
       "2  7.2574      52.0  8.288136   1.073446       496.0  2.802260     37.85   \n",
       "3  5.6431      52.0  5.817352   1.073059       558.0  2.547945     37.85   \n",
       "4  3.8462      52.0  6.281853   1.081081       565.0  2.181467     37.85   \n",
       "\n",
       "   Longitude  \n",
       "0    -122.23  \n",
       "1    -122.22  \n",
       "2    -122.24  \n",
       "3    -122.25  \n",
       "4    -122.25  "
      ]
     },
     "execution_count": 1,
     "metadata": {},
     "output_type": "execute_result"
    }
   ],
   "source": [
    "from sklearn.datasets import fetch_california_housing\n",
    "\n",
    "data, target = fetch_california_housing(as_frame=True, return_X_y=True)\n",
    "target *= 100  # rescale the target in k$\n",
    "data.head()"
   ]
  },
  {
   "cell_type": "markdown",
   "id": "84943194",
   "metadata": {},
   "source": [
    "Now it is your turn to train a linear regression model on this dataset.\n",
    "First, create a linear regression model."
   ]
  },
  {
   "cell_type": "code",
   "execution_count": 2,
   "id": "8d1c9cf0",
   "metadata": {},
   "outputs": [],
   "source": [
    "# Write your code here.\n",
    "from sklearn.linear_model import LinearRegression\n",
    "\n",
    "model = LinearRegression()"
   ]
  },
  {
   "cell_type": "markdown",
   "id": "3b0b8550",
   "metadata": {},
   "source": [
    "Execute a cross-validation with 10 folds and use the mean absolute error\n",
    "(MAE) as metric. Be sure to *return* the fitted *estimators*."
   ]
  },
  {
   "cell_type": "code",
   "execution_count": 3,
   "id": "c56c4a3d",
   "metadata": {},
   "outputs": [],
   "source": [
    "# Write your code here.\n",
    "from sklearn.model_selection import cross_validate\n",
    "\n",
    "cv_results = cross_validate(\n",
    "    model, data,\n",
    "    target,\n",
    "    cv=10,\n",
    "    return_estimator=True,\n",
    "    scoring='neg_mean_absolute_error',\n",
    "    n_jobs=-1\n",
    ")"
   ]
  },
  {
   "cell_type": "markdown",
   "id": "fc6a9260",
   "metadata": {},
   "source": [
    "Compute the mean and std of the MAE in thousands of dollars (k$)."
   ]
  },
  {
   "cell_type": "code",
   "execution_count": 6,
   "id": "448968a7",
   "metadata": {},
   "outputs": [
    {
     "data": {
      "text/plain": [
       "(-54.452, 9.109)"
      ]
     },
     "execution_count": 6,
     "metadata": {},
     "output_type": "execute_result"
    }
   ],
   "source": [
    "# Write your code here.\n",
    "cv_results['test_score'].mean().round(3), cv_results['test_score'].std().round(3)"
   ]
  },
  {
   "cell_type": "markdown",
   "id": "c71c4e68",
   "metadata": {
    "lines_to_next_cell": 2
   },
   "source": [
    "Inspect the fitted model using a box plot to show the distribution of values\n",
    "for the coefficients returned from the cross-validation. Hint:\n",
    "use the function\n",
    "[`df.plot.box()`](https://pandas.pydata.org/pandas-docs/stable/reference/api/pandas.DataFrame.plot.box.html)\n",
    "to create a box plot."
   ]
  },
  {
   "cell_type": "code",
   "execution_count": 10,
   "id": "228ae8d0",
   "metadata": {},
   "outputs": [
    {
     "data": {
      "text/html": [
       "<div>\n",
       "<style scoped>\n",
       "    .dataframe tbody tr th:only-of-type {\n",
       "        vertical-align: middle;\n",
       "    }\n",
       "\n",
       "    .dataframe tbody tr th {\n",
       "        vertical-align: top;\n",
       "    }\n",
       "\n",
       "    .dataframe thead th {\n",
       "        text-align: right;\n",
       "    }\n",
       "</style>\n",
       "<table border=\"1\" class=\"dataframe\">\n",
       "  <thead>\n",
       "    <tr style=\"text-align: right;\">\n",
       "      <th></th>\n",
       "      <th>MedInc</th>\n",
       "      <th>HouseAge</th>\n",
       "      <th>AveRooms</th>\n",
       "      <th>AveBedrms</th>\n",
       "      <th>Population</th>\n",
       "      <th>AveOccup</th>\n",
       "      <th>Latitude</th>\n",
       "      <th>Longitude</th>\n",
       "    </tr>\n",
       "  </thead>\n",
       "  <tbody>\n",
       "    <tr>\n",
       "      <th>0</th>\n",
       "      <td>44.613222</td>\n",
       "      <td>1.073691</td>\n",
       "      <td>-12.817547</td>\n",
       "      <td>81.709895</td>\n",
       "      <td>-0.000448</td>\n",
       "      <td>-0.378220</td>\n",
       "      <td>-45.087728</td>\n",
       "      <td>-47.999610</td>\n",
       "    </tr>\n",
       "    <tr>\n",
       "      <th>1</th>\n",
       "      <td>42.847135</td>\n",
       "      <td>0.943540</td>\n",
       "      <td>-9.783829</td>\n",
       "      <td>60.456816</td>\n",
       "      <td>-0.000889</td>\n",
       "      <td>-0.412785</td>\n",
       "      <td>-40.634870</td>\n",
       "      <td>-42.380996</td>\n",
       "    </tr>\n",
       "    <tr>\n",
       "      <th>2</th>\n",
       "      <td>42.647915</td>\n",
       "      <td>0.925298</td>\n",
       "      <td>-7.777559</td>\n",
       "      <td>50.807236</td>\n",
       "      <td>-0.000674</td>\n",
       "      <td>-0.338461</td>\n",
       "      <td>-41.126288</td>\n",
       "      <td>-43.165241</td>\n",
       "    </tr>\n",
       "    <tr>\n",
       "      <th>3</th>\n",
       "      <td>43.824437</td>\n",
       "      <td>0.996925</td>\n",
       "      <td>-11.607237</td>\n",
       "      <td>68.100196</td>\n",
       "      <td>-0.000542</td>\n",
       "      <td>-0.355432</td>\n",
       "      <td>-42.755030</td>\n",
       "      <td>-43.586643</td>\n",
       "    </tr>\n",
       "    <tr>\n",
       "      <th>4</th>\n",
       "      <td>42.629253</td>\n",
       "      <td>0.907493</td>\n",
       "      <td>-9.490222</td>\n",
       "      <td>57.837555</td>\n",
       "      <td>0.000321</td>\n",
       "      <td>-0.348858</td>\n",
       "      <td>-42.324285</td>\n",
       "      <td>-44.153669</td>\n",
       "    </tr>\n",
       "    <tr>\n",
       "      <th>5</th>\n",
       "      <td>44.701461</td>\n",
       "      <td>1.030609</td>\n",
       "      <td>-12.514147</td>\n",
       "      <td>70.626398</td>\n",
       "      <td>0.000484</td>\n",
       "      <td>-0.377876</td>\n",
       "      <td>-42.338749</td>\n",
       "      <td>-43.813873</td>\n",
       "    </tr>\n",
       "    <tr>\n",
       "      <th>6</th>\n",
       "      <td>43.819324</td>\n",
       "      <td>0.991483</td>\n",
       "      <td>-11.009958</td>\n",
       "      <td>66.325882</td>\n",
       "      <td>-0.000115</td>\n",
       "      <td>-0.377828</td>\n",
       "      <td>-41.728694</td>\n",
       "      <td>-42.641354</td>\n",
       "    </tr>\n",
       "    <tr>\n",
       "      <th>7</th>\n",
       "      <td>42.804521</td>\n",
       "      <td>0.635488</td>\n",
       "      <td>-8.885036</td>\n",
       "      <td>54.303107</td>\n",
       "      <td>-0.001602</td>\n",
       "      <td>-0.336350</td>\n",
       "      <td>-41.397068</td>\n",
       "      <td>-40.638396</td>\n",
       "    </tr>\n",
       "    <tr>\n",
       "      <th>8</th>\n",
       "      <td>43.988381</td>\n",
       "      <td>0.900403</td>\n",
       "      <td>-11.235413</td>\n",
       "      <td>66.441588</td>\n",
       "      <td>-0.000417</td>\n",
       "      <td>-0.426301</td>\n",
       "      <td>-40.904361</td>\n",
       "      <td>-41.506513</td>\n",
       "    </tr>\n",
       "    <tr>\n",
       "      <th>9</th>\n",
       "      <td>44.244087</td>\n",
       "      <td>0.984846</td>\n",
       "      <td>-11.385470</td>\n",
       "      <td>68.111843</td>\n",
       "      <td>-0.000169</td>\n",
       "      <td>-0.561852</td>\n",
       "      <td>-43.198393</td>\n",
       "      <td>-44.659096</td>\n",
       "    </tr>\n",
       "  </tbody>\n",
       "</table>\n",
       "</div>"
      ],
      "text/plain": [
       "      MedInc  HouseAge   AveRooms  AveBedrms  Population  AveOccup   Latitude  \\\n",
       "0  44.613222  1.073691 -12.817547  81.709895   -0.000448 -0.378220 -45.087728   \n",
       "1  42.847135  0.943540  -9.783829  60.456816   -0.000889 -0.412785 -40.634870   \n",
       "2  42.647915  0.925298  -7.777559  50.807236   -0.000674 -0.338461 -41.126288   \n",
       "3  43.824437  0.996925 -11.607237  68.100196   -0.000542 -0.355432 -42.755030   \n",
       "4  42.629253  0.907493  -9.490222  57.837555    0.000321 -0.348858 -42.324285   \n",
       "5  44.701461  1.030609 -12.514147  70.626398    0.000484 -0.377876 -42.338749   \n",
       "6  43.819324  0.991483 -11.009958  66.325882   -0.000115 -0.377828 -41.728694   \n",
       "7  42.804521  0.635488  -8.885036  54.303107   -0.001602 -0.336350 -41.397068   \n",
       "8  43.988381  0.900403 -11.235413  66.441588   -0.000417 -0.426301 -40.904361   \n",
       "9  44.244087  0.984846 -11.385470  68.111843   -0.000169 -0.561852 -43.198393   \n",
       "\n",
       "   Longitude  \n",
       "0 -47.999610  \n",
       "1 -42.380996  \n",
       "2 -43.165241  \n",
       "3 -43.586643  \n",
       "4 -44.153669  \n",
       "5 -43.813873  \n",
       "6 -42.641354  \n",
       "7 -40.638396  \n",
       "8 -41.506513  \n",
       "9 -44.659096  "
      ]
     },
     "execution_count": 10,
     "metadata": {},
     "output_type": "execute_result"
    }
   ],
   "source": [
    "# Write your code here.\n",
    "import pandas as pd\n",
    "import matplotlib.pyplot as plt\n",
    "plt.style.use('fivethirtyeight')\n",
    "\n",
    "df = pd.DataFrame(\n",
    "    [e.coef_ for e in cv_results['estimator']],\n",
    "    columns=data.columns\n",
    "                 )\n",
    "df"
   ]
  },
  {
   "cell_type": "code",
   "execution_count": 13,
   "id": "afd48eef",
   "metadata": {},
   "outputs": [
    {
     "data": {
      "text/plain": [
       "(array([1, 2, 3, 4, 5, 6, 7, 8]),\n",
       " [Text(1, 0, 'MedInc'),\n",
       "  Text(2, 0, 'HouseAge'),\n",
       "  Text(3, 0, 'AveRooms'),\n",
       "  Text(4, 0, 'AveBedrms'),\n",
       "  Text(5, 0, 'Population'),\n",
       "  Text(6, 0, 'AveOccup'),\n",
       "  Text(7, 0, 'Latitude'),\n",
       "  Text(8, 0, 'Longitude')])"
      ]
     },
     "execution_count": 13,
     "metadata": {},
     "output_type": "execute_result"
    },
    {
     "data": {
      "image/png": "[encoded data removed]",
      "text/plain": [
       "<Figure size 432x288 with 1 Axes>"
      ]
     },
     "metadata": {},
     "output_type": "display_data"
    }
   ],
   "source": [
    "df.plot.box()\n",
    "plt.title(\"Value of linear regression coefficients\")\n",
    "plt.xticks(rotation=45)"
   ]
  },
  {
   "cell_type": "code",
   "execution_count": null,
   "id": "acf7d0d5",
   "metadata": {},
   "outputs": [],
   "source": []
  }
 ],
 "metadata": {
  "jupytext": {
   "cell_metadata_filter": "-all",
   "encoding": "# -*- coding: utf-8 -*-",
   "main_language": "python",
   "notebook_metadata_filter": "-all"
  },
  "kernelspec": {
   "display_name": "Python 3 (ipykernel)",
   "language": "python",
   "name": "python3"
  },
  "language_info": {
   "codemirror_mode": {
    "name": "ipython",
    "version": 3
   },
   "file_extension": ".py",
   "mimetype": "text/x-python",
   "name": "python",
   "nbconvert_exporter": "python",
   "pygments_lexer": "ipython3",
   "version": "3.9.7"
  },
  "nbreset": "https://github.com/INRIA/scikit-learn-mooc/raw/main/notebooks/linear_models_ex_03.ipynb"
 },
 "nbformat": 4,
 "nbformat_minor": 5
}
