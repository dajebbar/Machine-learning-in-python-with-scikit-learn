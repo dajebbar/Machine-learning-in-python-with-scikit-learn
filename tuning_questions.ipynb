{
 "cells": [
  {
   "cell_type": "code",
   "execution_count": 1,
   "metadata": {},
   "outputs": [],
   "source": [
    "import pandas as pd\n",
    "\n",
    "penguins = pd.read_csv(\"../datasets/penguins.csv\")\n",
    "\n",
    "columns = [\"Body Mass (g)\", \"Flipper Length (mm)\", \"Culmen Length (mm)\"]\n",
    "target_name = \"Species\"\n",
    "\n",
    "# Remove lines with missing values for the columns of interest\n",
    "penguins_non_missing = penguins[columns + [target_name]].dropna()\n",
    "\n",
    "data = penguins_non_missing[columns]\n",
    "target = penguins_non_missing[target_name]"
   ]
  },
  {
   "cell_type": "code",
   "execution_count": 2,
   "metadata": {},
   "outputs": [
    {
     "data": {
      "text/html": [
       "<div>\n",
       "<style scoped>\n",
       "    .dataframe tbody tr th:only-of-type {\n",
       "        vertical-align: middle;\n",
       "    }\n",
       "\n",
       "    .dataframe tbody tr th {\n",
       "        vertical-align: top;\n",
       "    }\n",
       "\n",
       "    .dataframe thead th {\n",
       "        text-align: right;\n",
       "    }\n",
       "</style>\n",
       "<table border=\"1\" class=\"dataframe\">\n",
       "  <thead>\n",
       "    <tr style=\"text-align: right;\">\n",
       "      <th></th>\n",
       "      <th>Body Mass (g)</th>\n",
       "      <th>Flipper Length (mm)</th>\n",
       "      <th>Culmen Length (mm)</th>\n",
       "    </tr>\n",
       "  </thead>\n",
       "  <tbody>\n",
       "    <tr>\n",
       "      <th>0</th>\n",
       "      <td>3750.0</td>\n",
       "      <td>181.0</td>\n",
       "      <td>39.1</td>\n",
       "    </tr>\n",
       "    <tr>\n",
       "      <th>1</th>\n",
       "      <td>3800.0</td>\n",
       "      <td>186.0</td>\n",
       "      <td>39.5</td>\n",
       "    </tr>\n",
       "    <tr>\n",
       "      <th>2</th>\n",
       "      <td>3250.0</td>\n",
       "      <td>195.0</td>\n",
       "      <td>40.3</td>\n",
       "    </tr>\n",
       "    <tr>\n",
       "      <th>4</th>\n",
       "      <td>3450.0</td>\n",
       "      <td>193.0</td>\n",
       "      <td>36.7</td>\n",
       "    </tr>\n",
       "    <tr>\n",
       "      <th>5</th>\n",
       "      <td>3650.0</td>\n",
       "      <td>190.0</td>\n",
       "      <td>39.3</td>\n",
       "    </tr>\n",
       "  </tbody>\n",
       "</table>\n",
       "</div>"
      ],
      "text/plain": [
       "   Body Mass (g)  Flipper Length (mm)  Culmen Length (mm)\n",
       "0         3750.0                181.0                39.1\n",
       "1         3800.0                186.0                39.5\n",
       "2         3250.0                195.0                40.3\n",
       "4         3450.0                193.0                36.7\n",
       "5         3650.0                190.0                39.3"
      ]
     },
     "execution_count": 2,
     "metadata": {},
     "output_type": "execute_result"
    }
   ],
   "source": [
    "data.head()"
   ]
  },
  {
   "cell_type": "code",
   "execution_count": 4,
   "metadata": {},
   "outputs": [
    {
     "data": {
      "text/plain": [
       "9      Adelie Penguin (Pygoscelis adeliae)\n",
       "162      Gentoo penguin (Pygoscelis papua)\n",
       "18     Adelie Penguin (Pygoscelis adeliae)\n",
       "263      Gentoo penguin (Pygoscelis papua)\n",
       "97     Adelie Penguin (Pygoscelis adeliae)\n",
       "117    Adelie Penguin (Pygoscelis adeliae)\n",
       "4      Adelie Penguin (Pygoscelis adeliae)\n",
       "125    Adelie Penguin (Pygoscelis adeliae)\n",
       "45     Adelie Penguin (Pygoscelis adeliae)\n",
       "11     Adelie Penguin (Pygoscelis adeliae)\n",
       "Name: Species, dtype: object"
      ]
     },
     "execution_count": 4,
     "metadata": {},
     "output_type": "execute_result"
    }
   ],
   "source": [
    "target.sample(10)"
   ]
  },
  {
   "cell_type": "code",
   "execution_count": 6,
   "metadata": {},
   "outputs": [
    {
     "data": {
      "text/plain": [
       "Adelie Penguin (Pygoscelis adeliae)          0.441520\n",
       "Gentoo penguin (Pygoscelis papua)            0.359649\n",
       "Chinstrap penguin (Pygoscelis antarctica)    0.198830\n",
       "Name: Species, dtype: float64"
      ]
     },
     "execution_count": 6,
     "metadata": {},
     "output_type": "execute_result"
    }
   ],
   "source": [
    "target.value_counts(dropna=False, normalize=True)"
   ]
  },
  {
   "cell_type": "code",
   "execution_count": 7,
   "metadata": {},
   "outputs": [],
   "source": [
    "from sklearn.neighbors import KNeighborsClassifier\n",
    "from sklearn.preprocessing import StandardScaler\n",
    "from sklearn.pipeline import Pipeline\n",
    "model = Pipeline(steps=[\n",
    "    (\"preprocessor\", StandardScaler()),\n",
    "    (\"classifier\", KNeighborsClassifier(n_neighbors=5)),\n",
    "])"
   ]
  },
  {
   "cell_type": "code",
   "execution_count": 10,
   "metadata": {},
   "outputs": [],
   "source": [
    "from sklearn.model_selection import cross_validate\n",
    "\n",
    "cv_results = cross_validate(\n",
    "    model,\n",
    "    data,\n",
    "    target,\n",
    "    cv=10,\n",
    "    scoring='balanced_accuracy',\n",
    "    n_jobs=-1,\n",
    ")\n",
    "\n",
    "acc = cv_results['test_score']\n"
   ]
  },
  {
   "cell_type": "code",
   "execution_count": 11,
   "metadata": {},
   "outputs": [
    {
     "data": {
      "text/plain": [
       "(0.9521978021978021, 0.0399020975957868)"
      ]
     },
     "execution_count": 11,
     "metadata": {},
     "output_type": "execute_result"
    }
   ],
   "source": [
    "acc.mean(), acc.std()"
   ]
  },
  {
   "cell_type": "code",
   "execution_count": 12,
   "metadata": {},
   "outputs": [
    {
     "name": "stdout",
     "output_type": "stream",
     "text": [
      "memory\n",
      "steps\n",
      "verbose\n",
      "preprocessor\n",
      "classifier\n",
      "preprocessor__copy\n",
      "preprocessor__with_mean\n",
      "preprocessor__with_std\n",
      "classifier__algorithm\n",
      "classifier__leaf_size\n",
      "classifier__metric\n",
      "classifier__metric_params\n",
      "classifier__n_jobs\n",
      "classifier__n_neighbors\n",
      "classifier__p\n",
      "classifier__weights\n"
     ]
    }
   ],
   "source": [
    "for p in model.get_params():\n",
    "    print(p)"
   ]
  },
  {
   "cell_type": "code",
   "execution_count": 18,
   "metadata": {},
   "outputs": [
    {
     "data": {
      "text/plain": [
       "GridSearchCV(cv=10,\n",
       "             estimator=Pipeline(steps=[('preprocessor', StandardScaler()),\n",
       "                                       ('classifier', KNeighborsClassifier())]),\n",
       "             param_grid={'classifier__n_neighbors': [5, 51, 101],\n",
       "                         'preprocessor': [None, StandardScaler()]},\n",
       "             scoring='balanced_accuracy')"
      ]
     },
     "execution_count": 18,
     "metadata": {},
     "output_type": "execute_result"
    }
   ],
   "source": [
    "from sklearn.model_selection import GridSearchCV\n",
    "\n",
    "param_grid = {\n",
    "    'classifier__n_neighbors': [5, 51, 101],\n",
    "    'preprocessor': [None, StandardScaler()]\n",
    "    \n",
    "}\n",
    "search = GridSearchCV(\n",
    "    model,\n",
    "    param_grid=param_grid,\n",
    "    scoring=\"balanced_accuracy\",\n",
    "    cv=10,\n",
    ")\n",
    "\n",
    "search.fit(data, target)"
   ]
  },
  {
   "cell_type": "code",
   "execution_count": 19,
   "metadata": {},
   "outputs": [
    {
     "data": {
      "text/plain": [
       "{'mean_fit_time': array([0.00302246, 0.00431759, 0.00251477, 0.00423265, 0.00236115,\n",
       "        0.00374026]),\n",
       " 'std_fit_time': array([1.44368754e-03, 3.19840742e-04, 5.98357536e-05, 1.24925511e-04,\n",
       "        3.21910064e-04, 1.61060664e-04]),\n",
       " 'mean_score_time': array([0.00390399, 0.00412235, 0.00395036, 0.00418155, 0.00374331,\n",
       "        0.00393999]),\n",
       " 'std_score_time': array([4.38759286e-04, 7.28899534e-04, 9.31935500e-05, 1.83863272e-04,\n",
       "        3.70122391e-04, 2.43516289e-04]),\n",
       " 'param_classifier__n_neighbors': masked_array(data=[5, 5, 51, 51, 101, 101],\n",
       "              mask=[False, False, False, False, False, False],\n",
       "        fill_value='?',\n",
       "             dtype=object),\n",
       " 'param_preprocessor': masked_array(data=[None, StandardScaler(), None, StandardScaler(), None,\n",
       "                    StandardScaler()],\n",
       "              mask=[False, False, False, False, False, False],\n",
       "        fill_value='?',\n",
       "             dtype=object),\n",
       " 'params': [{'classifier__n_neighbors': 5, 'preprocessor': None},\n",
       "  {'classifier__n_neighbors': 5, 'preprocessor': StandardScaler()},\n",
       "  {'classifier__n_neighbors': 51, 'preprocessor': None},\n",
       "  {'classifier__n_neighbors': 51, 'preprocessor': StandardScaler()},\n",
       "  {'classifier__n_neighbors': 101, 'preprocessor': None},\n",
       "  {'classifier__n_neighbors': 101, 'preprocessor': StandardScaler()}],\n",
       " 'split0_test_score': array([0.66468254, 1.        , 0.61805556, 0.95238095, 0.61805556,\n",
       "        0.85714286]),\n",
       " 'split1_test_score': array([0.73601954, 1.        , 0.56752137, 0.97777778, 0.59316239,\n",
       "        0.95238095]),\n",
       " 'split2_test_score': array([0.74102564, 1.        , 0.5965812 , 1.        , 0.57435897,\n",
       "        0.94444444]),\n",
       " 'split3_test_score': array([0.7042735 , 0.91880342, 0.56410256, 0.86324786, 0.56410256,\n",
       "        0.86324786]),\n",
       " 'split4_test_score': array([0.58412698, 0.88253968, 0.53333333, 0.88253968, 0.58888889,\n",
       "        0.83492063]),\n",
       " 'split5_test_score': array([0.66984127, 0.95238095, 0.64444444, 0.95238095, 0.64444444,\n",
       "        0.85714286]),\n",
       " 'split6_test_score': array([0.83492063, 0.97777778, 0.62222222, 0.95555556, 0.62222222,\n",
       "        0.83492063]),\n",
       " 'split7_test_score': array([0.74285714, 0.93015873, 0.62222222, 0.95238095, 0.62222222,\n",
       "        0.88253968]),\n",
       " 'split8_test_score': array([0.88253968, 0.90793651, 0.64444444, 0.93015873, 0.64444444,\n",
       "        0.83492063]),\n",
       " 'split9_test_score': array([0.83809524, 0.95238095, 0.63888889, 0.95238095, 0.66666667,\n",
       "        0.9047619 ]),\n",
       " 'mean_test_score': array([0.73983822, 0.9521978 , 0.60518162, 0.94188034, 0.61385684,\n",
       "        0.87664225]),\n",
       " 'std_test_score': array([0.08668489, 0.0399021 , 0.03647979, 0.03890548, 0.03147205,\n",
       "        0.04161842]),\n",
       " 'rank_test_score': array([4, 1, 6, 2, 5, 3], dtype=int32)}"
      ]
     },
     "execution_count": 19,
     "metadata": {},
     "output_type": "execute_result"
    }
   ],
   "source": [
    "search.cv_results_"
   ]
  },
  {
   "cell_type": "code",
   "execution_count": 20,
   "metadata": {},
   "outputs": [],
   "source": [
    "results = (\n",
    "    pd.DataFrame(search.cv_results_)\n",
    "    .sort_values(by=\"mean_test_score\", ascending=False)\n",
    ")\n",
    "\n",
    "results = results[\n",
    "    [c for c in results.columns if c.startswith(\"param_\")]\n",
    "    + [\"mean_test_score\", \"std_test_score\"]\n",
    "]"
   ]
  },
  {
   "cell_type": "code",
   "execution_count": 21,
   "metadata": {},
   "outputs": [
    {
     "data": {
      "text/html": [
       "<div>\n",
       "<style scoped>\n",
       "    .dataframe tbody tr th:only-of-type {\n",
       "        vertical-align: middle;\n",
       "    }\n",
       "\n",
       "    .dataframe tbody tr th {\n",
       "        vertical-align: top;\n",
       "    }\n",
       "\n",
       "    .dataframe thead th {\n",
       "        text-align: right;\n",
       "    }\n",
       "</style>\n",
       "<table border=\"1\" class=\"dataframe\">\n",
       "  <thead>\n",
       "    <tr style=\"text-align: right;\">\n",
       "      <th></th>\n",
       "      <th>param_classifier__n_neighbors</th>\n",
       "      <th>param_preprocessor</th>\n",
       "      <th>mean_test_score</th>\n",
       "      <th>std_test_score</th>\n",
       "    </tr>\n",
       "  </thead>\n",
       "  <tbody>\n",
       "    <tr>\n",
       "      <th>1</th>\n",
       "      <td>5</td>\n",
       "      <td>StandardScaler()</td>\n",
       "      <td>0.952198</td>\n",
       "      <td>0.039902</td>\n",
       "    </tr>\n",
       "    <tr>\n",
       "      <th>3</th>\n",
       "      <td>51</td>\n",
       "      <td>StandardScaler()</td>\n",
       "      <td>0.941880</td>\n",
       "      <td>0.038905</td>\n",
       "    </tr>\n",
       "    <tr>\n",
       "      <th>5</th>\n",
       "      <td>101</td>\n",
       "      <td>StandardScaler()</td>\n",
       "      <td>0.876642</td>\n",
       "      <td>0.041618</td>\n",
       "    </tr>\n",
       "    <tr>\n",
       "      <th>0</th>\n",
       "      <td>5</td>\n",
       "      <td>None</td>\n",
       "      <td>0.739838</td>\n",
       "      <td>0.086685</td>\n",
       "    </tr>\n",
       "    <tr>\n",
       "      <th>4</th>\n",
       "      <td>101</td>\n",
       "      <td>None</td>\n",
       "      <td>0.613857</td>\n",
       "      <td>0.031472</td>\n",
       "    </tr>\n",
       "    <tr>\n",
       "      <th>2</th>\n",
       "      <td>51</td>\n",
       "      <td>None</td>\n",
       "      <td>0.605182</td>\n",
       "      <td>0.036480</td>\n",
       "    </tr>\n",
       "  </tbody>\n",
       "</table>\n",
       "</div>"
      ],
      "text/plain": [
       "  param_classifier__n_neighbors param_preprocessor  mean_test_score  \\\n",
       "1                             5   StandardScaler()         0.952198   \n",
       "3                            51   StandardScaler()         0.941880   \n",
       "5                           101   StandardScaler()         0.876642   \n",
       "0                             5               None         0.739838   \n",
       "4                           101               None         0.613857   \n",
       "2                            51               None         0.605182   \n",
       "\n",
       "   std_test_score  \n",
       "1        0.039902  \n",
       "3        0.038905  \n",
       "5        0.041618  \n",
       "0        0.086685  \n",
       "4        0.031472  \n",
       "2        0.036480  "
      ]
     },
     "execution_count": 21,
     "metadata": {},
     "output_type": "execute_result"
    }
   ],
   "source": [
    "results"
   ]
  },
  {
   "cell_type": "code",
   "execution_count": 30,
   "metadata": {},
   "outputs": [],
   "source": [
    "from sklearn.preprocessing import MinMaxScaler\n",
    "from sklearn.preprocessing import QuantileTransformer\n",
    "from sklearn.preprocessing import PowerTransformer\n",
    "\n",
    "\n",
    "all_preprocessors = [\n",
    "    None,\n",
    "    StandardScaler(),\n",
    "    MinMaxScaler(),\n",
    "    QuantileTransformer(n_quantiles=100),\n",
    "    PowerTransformer(method=\"box-cox\"),\n",
    "]"
   ]
  },
  {
   "cell_type": "code",
   "execution_count": 33,
   "metadata": {},
   "outputs": [
    {
     "data": {
      "text/plain": [
       "GridSearchCV(cv=10,\n",
       "             estimator=Pipeline(steps=[('preprocessor', StandardScaler()),\n",
       "                                       ('classifier', KNeighborsClassifier())]),\n",
       "             param_grid={'classifier__n_neighbors': [5, 51, 101],\n",
       "                         'preprocessor': [None, StandardScaler(),\n",
       "                                          MinMaxScaler(),\n",
       "                                          QuantileTransformer(n_quantiles=100),\n",
       "                                          PowerTransformer(method='box-cox')]},\n",
       "             scoring='balanced_accuracy')"
      ]
     },
     "execution_count": 33,
     "metadata": {},
     "output_type": "execute_result"
    }
   ],
   "source": [
    "param_grid = {\n",
    "    'classifier__n_neighbors': [5, 51, 101],\n",
    "    'preprocessor': all_preprocessors,\n",
    "    \n",
    "}\n",
    "search = GridSearchCV(\n",
    "    model,\n",
    "    param_grid=param_grid,\n",
    "    scoring=\"balanced_accuracy\",\n",
    "    cv=10,\n",
    ")\n",
    "\n",
    "search.fit(data, target)"
   ]
  },
  {
   "cell_type": "code",
   "execution_count": 34,
   "metadata": {},
   "outputs": [
    {
     "data": {
      "text/html": [
       "<div>\n",
       "<style scoped>\n",
       "    .dataframe tbody tr th:only-of-type {\n",
       "        vertical-align: middle;\n",
       "    }\n",
       "\n",
       "    .dataframe tbody tr th {\n",
       "        vertical-align: top;\n",
       "    }\n",
       "\n",
       "    .dataframe thead th {\n",
       "        text-align: right;\n",
       "    }\n",
       "</style>\n",
       "<table border=\"1\" class=\"dataframe\">\n",
       "  <thead>\n",
       "    <tr style=\"text-align: right;\">\n",
       "      <th></th>\n",
       "      <th>param_classifier__n_neighbors</th>\n",
       "      <th>param_preprocessor</th>\n",
       "      <th>mean_test_score</th>\n",
       "      <th>std_test_score</th>\n",
       "    </tr>\n",
       "  </thead>\n",
       "  <tbody>\n",
       "    <tr>\n",
       "      <th>1</th>\n",
       "      <td>5</td>\n",
       "      <td>StandardScaler()</td>\n",
       "      <td>0.952198</td>\n",
       "      <td>0.039902</td>\n",
       "    </tr>\n",
       "    <tr>\n",
       "      <th>2</th>\n",
       "      <td>5</td>\n",
       "      <td>MinMaxScaler()</td>\n",
       "      <td>0.947778</td>\n",
       "      <td>0.034268</td>\n",
       "    </tr>\n",
       "    <tr>\n",
       "      <th>3</th>\n",
       "      <td>5</td>\n",
       "      <td>QuantileTransformer(n_quantiles=100)</td>\n",
       "      <td>0.947094</td>\n",
       "      <td>0.033797</td>\n",
       "    </tr>\n",
       "    <tr>\n",
       "      <th>4</th>\n",
       "      <td>5</td>\n",
       "      <td>PowerTransformer(method='box-cox')</td>\n",
       "      <td>0.946960</td>\n",
       "      <td>0.047387</td>\n",
       "    </tr>\n",
       "    <tr>\n",
       "      <th>6</th>\n",
       "      <td>51</td>\n",
       "      <td>StandardScaler()</td>\n",
       "      <td>0.941880</td>\n",
       "      <td>0.038905</td>\n",
       "    </tr>\n",
       "    <tr>\n",
       "      <th>8</th>\n",
       "      <td>51</td>\n",
       "      <td>QuantileTransformer(n_quantiles=100)</td>\n",
       "      <td>0.927277</td>\n",
       "      <td>0.043759</td>\n",
       "    </tr>\n",
       "    <tr>\n",
       "      <th>9</th>\n",
       "      <td>51</td>\n",
       "      <td>PowerTransformer(method='box-cox')</td>\n",
       "      <td>0.922833</td>\n",
       "      <td>0.047883</td>\n",
       "    </tr>\n",
       "    <tr>\n",
       "      <th>7</th>\n",
       "      <td>51</td>\n",
       "      <td>MinMaxScaler()</td>\n",
       "      <td>0.920293</td>\n",
       "      <td>0.045516</td>\n",
       "    </tr>\n",
       "    <tr>\n",
       "      <th>11</th>\n",
       "      <td>101</td>\n",
       "      <td>StandardScaler()</td>\n",
       "      <td>0.876642</td>\n",
       "      <td>0.041618</td>\n",
       "    </tr>\n",
       "    <tr>\n",
       "      <th>12</th>\n",
       "      <td>101</td>\n",
       "      <td>MinMaxScaler()</td>\n",
       "      <td>0.862357</td>\n",
       "      <td>0.046244</td>\n",
       "    </tr>\n",
       "    <tr>\n",
       "      <th>14</th>\n",
       "      <td>101</td>\n",
       "      <td>PowerTransformer(method='box-cox')</td>\n",
       "      <td>0.857143</td>\n",
       "      <td>0.041000</td>\n",
       "    </tr>\n",
       "    <tr>\n",
       "      <th>13</th>\n",
       "      <td>101</td>\n",
       "      <td>QuantileTransformer(n_quantiles=100)</td>\n",
       "      <td>0.812991</td>\n",
       "      <td>0.044788</td>\n",
       "    </tr>\n",
       "    <tr>\n",
       "      <th>0</th>\n",
       "      <td>5</td>\n",
       "      <td>None</td>\n",
       "      <td>0.739838</td>\n",
       "      <td>0.086685</td>\n",
       "    </tr>\n",
       "    <tr>\n",
       "      <th>10</th>\n",
       "      <td>101</td>\n",
       "      <td>None</td>\n",
       "      <td>0.613857</td>\n",
       "      <td>0.031472</td>\n",
       "    </tr>\n",
       "    <tr>\n",
       "      <th>5</th>\n",
       "      <td>51</td>\n",
       "      <td>None</td>\n",
       "      <td>0.605182</td>\n",
       "      <td>0.036480</td>\n",
       "    </tr>\n",
       "  </tbody>\n",
       "</table>\n",
       "</div>"
      ],
      "text/plain": [
       "   param_classifier__n_neighbors                    param_preprocessor  \\\n",
       "1                              5                      StandardScaler()   \n",
       "2                              5                        MinMaxScaler()   \n",
       "3                              5  QuantileTransformer(n_quantiles=100)   \n",
       "4                              5    PowerTransformer(method='box-cox')   \n",
       "6                             51                      StandardScaler()   \n",
       "8                             51  QuantileTransformer(n_quantiles=100)   \n",
       "9                             51    PowerTransformer(method='box-cox')   \n",
       "7                             51                        MinMaxScaler()   \n",
       "11                           101                      StandardScaler()   \n",
       "12                           101                        MinMaxScaler()   \n",
       "14                           101    PowerTransformer(method='box-cox')   \n",
       "13                           101  QuantileTransformer(n_quantiles=100)   \n",
       "0                              5                                  None   \n",
       "10                           101                                  None   \n",
       "5                             51                                  None   \n",
       "\n",
       "    mean_test_score  std_test_score  \n",
       "1          0.952198        0.039902  \n",
       "2          0.947778        0.034268  \n",
       "3          0.947094        0.033797  \n",
       "4          0.946960        0.047387  \n",
       "6          0.941880        0.038905  \n",
       "8          0.927277        0.043759  \n",
       "9          0.922833        0.047883  \n",
       "7          0.920293        0.045516  \n",
       "11         0.876642        0.041618  \n",
       "12         0.862357        0.046244  \n",
       "14         0.857143        0.041000  \n",
       "13         0.812991        0.044788  \n",
       "0          0.739838        0.086685  \n",
       "10         0.613857        0.031472  \n",
       "5          0.605182        0.036480  "
      ]
     },
     "execution_count": 34,
     "metadata": {},
     "output_type": "execute_result"
    }
   ],
   "source": [
    "results = (\n",
    "    pd.DataFrame(search.cv_results_)\n",
    "    .sort_values(by=\"mean_test_score\", ascending=False)\n",
    ")\n",
    "\n",
    "results = results[\n",
    "    [c for c in results.columns if c.startswith(\"param_\")]\n",
    "    + [\"mean_test_score\", \"std_test_score\"]\n",
    "]\n",
    "\n",
    "results"
   ]
  },
  {
   "cell_type": "code",
   "execution_count": 35,
   "metadata": {},
   "outputs": [
    {
     "data": {
      "text/plain": [
       "0.943"
      ]
     },
     "execution_count": 35,
     "metadata": {},
     "output_type": "execute_result"
    }
   ],
   "source": [
    "cv_results = cross_validate(\n",
    "    search,\n",
    "    data,\n",
    "    target,\n",
    "    cv=10,\n",
    "    scoring='balanced_accuracy',\n",
    "    n_jobs=-1,\n",
    "    return_estimator=True,\n",
    ")\n",
    "\n",
    "acc = cv_results['test_score']\n",
    "acc.mean().round(3)"
   ]
  },
  {
   "cell_type": "code",
   "execution_count": 32,
   "metadata": {},
   "outputs": [
    {
     "name": "stdout",
     "output_type": "stream",
     "text": [
      "{'classifier__n_neighbors': 5, 'preprocessor': StandardScaler()}\n"
     ]
    }
   ],
   "source": [
    "from pprint import pprint\n",
    "\n",
    "pprint(search.best_params_)"
   ]
  },
  {
   "cell_type": "code",
   "execution_count": 36,
   "metadata": {},
   "outputs": [
    {
     "data": {
      "text/html": [
       "<div>\n",
       "<style scoped>\n",
       "    .dataframe tbody tr th:only-of-type {\n",
       "        vertical-align: middle;\n",
       "    }\n",
       "\n",
       "    .dataframe tbody tr th {\n",
       "        vertical-align: top;\n",
       "    }\n",
       "\n",
       "    .dataframe thead th {\n",
       "        text-align: right;\n",
       "    }\n",
       "</style>\n",
       "<table border=\"1\" class=\"dataframe\">\n",
       "  <thead>\n",
       "    <tr style=\"text-align: right;\">\n",
       "      <th></th>\n",
       "      <th>fit_time</th>\n",
       "      <th>score_time</th>\n",
       "      <th>estimator</th>\n",
       "      <th>test_score</th>\n",
       "    </tr>\n",
       "  </thead>\n",
       "  <tbody>\n",
       "    <tr>\n",
       "      <th>0</th>\n",
       "      <td>1.399506</td>\n",
       "      <td>0.004113</td>\n",
       "      <td>GridSearchCV(cv=10,\\n             estimator=Pi...</td>\n",
       "      <td>0.952381</td>\n",
       "    </tr>\n",
       "    <tr>\n",
       "      <th>1</th>\n",
       "      <td>1.354188</td>\n",
       "      <td>0.003689</td>\n",
       "      <td>GridSearchCV(cv=10,\\n             estimator=Pi...</td>\n",
       "      <td>0.926740</td>\n",
       "    </tr>\n",
       "    <tr>\n",
       "      <th>2</th>\n",
       "      <td>1.382682</td>\n",
       "      <td>0.004234</td>\n",
       "      <td>GridSearchCV(cv=10,\\n             estimator=Pi...</td>\n",
       "      <td>1.000000</td>\n",
       "    </tr>\n",
       "    <tr>\n",
       "      <th>3</th>\n",
       "      <td>1.312368</td>\n",
       "      <td>0.003946</td>\n",
       "      <td>GridSearchCV(cv=10,\\n             estimator=Pi...</td>\n",
       "      <td>0.918803</td>\n",
       "    </tr>\n",
       "    <tr>\n",
       "      <th>4</th>\n",
       "      <td>1.425392</td>\n",
       "      <td>0.004264</td>\n",
       "      <td>GridSearchCV(cv=10,\\n             estimator=Pi...</td>\n",
       "      <td>0.882540</td>\n",
       "    </tr>\n",
       "    <tr>\n",
       "      <th>5</th>\n",
       "      <td>1.362918</td>\n",
       "      <td>0.003434</td>\n",
       "      <td>GridSearchCV(cv=10,\\n             estimator=Pi...</td>\n",
       "      <td>1.000000</td>\n",
       "    </tr>\n",
       "    <tr>\n",
       "      <th>6</th>\n",
       "      <td>1.518476</td>\n",
       "      <td>0.003573</td>\n",
       "      <td>GridSearchCV(cv=10,\\n             estimator=Pi...</td>\n",
       "      <td>0.955556</td>\n",
       "    </tr>\n",
       "    <tr>\n",
       "      <th>7</th>\n",
       "      <td>1.461393</td>\n",
       "      <td>0.003278</td>\n",
       "      <td>GridSearchCV(cv=10,\\n             estimator=Pi...</td>\n",
       "      <td>0.930159</td>\n",
       "    </tr>\n",
       "    <tr>\n",
       "      <th>8</th>\n",
       "      <td>1.285781</td>\n",
       "      <td>0.003158</td>\n",
       "      <td>GridSearchCV(cv=10,\\n             estimator=Pi...</td>\n",
       "      <td>0.907937</td>\n",
       "    </tr>\n",
       "    <tr>\n",
       "      <th>9</th>\n",
       "      <td>1.376710</td>\n",
       "      <td>0.004043</td>\n",
       "      <td>GridSearchCV(cv=10,\\n             estimator=Pi...</td>\n",
       "      <td>0.952381</td>\n",
       "    </tr>\n",
       "  </tbody>\n",
       "</table>\n",
       "</div>"
      ],
      "text/plain": [
       "   fit_time  score_time                                          estimator  \\\n",
       "0  1.399506    0.004113  GridSearchCV(cv=10,\\n             estimator=Pi...   \n",
       "1  1.354188    0.003689  GridSearchCV(cv=10,\\n             estimator=Pi...   \n",
       "2  1.382682    0.004234  GridSearchCV(cv=10,\\n             estimator=Pi...   \n",
       "3  1.312368    0.003946  GridSearchCV(cv=10,\\n             estimator=Pi...   \n",
       "4  1.425392    0.004264  GridSearchCV(cv=10,\\n             estimator=Pi...   \n",
       "5  1.362918    0.003434  GridSearchCV(cv=10,\\n             estimator=Pi...   \n",
       "6  1.518476    0.003573  GridSearchCV(cv=10,\\n             estimator=Pi...   \n",
       "7  1.461393    0.003278  GridSearchCV(cv=10,\\n             estimator=Pi...   \n",
       "8  1.285781    0.003158  GridSearchCV(cv=10,\\n             estimator=Pi...   \n",
       "9  1.376710    0.004043  GridSearchCV(cv=10,\\n             estimator=Pi...   \n",
       "\n",
       "   test_score  \n",
       "0    0.952381  \n",
       "1    0.926740  \n",
       "2    1.000000  \n",
       "3    0.918803  \n",
       "4    0.882540  \n",
       "5    1.000000  \n",
       "6    0.955556  \n",
       "7    0.930159  \n",
       "8    0.907937  \n",
       "9    0.952381  "
      ]
     },
     "execution_count": 36,
     "metadata": {},
     "output_type": "execute_result"
    }
   ],
   "source": [
    "res = pd.DataFrame(cv_results)\n",
    "res"
   ]
  },
  {
   "cell_type": "code",
   "execution_count": 37,
   "metadata": {},
   "outputs": [
    {
     "name": "stdout",
     "output_type": "stream",
     "text": [
      "{'classifier__n_neighbors': 5, 'preprocessor': QuantileTransformer(n_quantiles=100)}\n",
      "{'classifier__n_neighbors': 5, 'preprocessor': QuantileTransformer(n_quantiles=100)}\n",
      "{'classifier__n_neighbors': 5, 'preprocessor': StandardScaler()}\n",
      "{'classifier__n_neighbors': 5, 'preprocessor': StandardScaler()}\n",
      "{'classifier__n_neighbors': 5, 'preprocessor': MinMaxScaler()}\n",
      "{'classifier__n_neighbors': 5, 'preprocessor': QuantileTransformer(n_quantiles=100)}\n",
      "{'classifier__n_neighbors': 5, 'preprocessor': MinMaxScaler()}\n",
      "{'classifier__n_neighbors': 5, 'preprocessor': StandardScaler()}\n",
      "{'classifier__n_neighbors': 5, 'preprocessor': StandardScaler()}\n",
      "{'classifier__n_neighbors': 5, 'preprocessor': QuantileTransformer(n_quantiles=100)}\n"
     ]
    }
   ],
   "source": [
    "for estimator in cv_results[\"estimator\"]:\n",
    "    print(estimator.best_params_)"
   ]
  }
 ],
 "metadata": {
  "kernelspec": {
   "display_name": "Python 3 (ipykernel)",
   "language": "python",
   "name": "python3"
  },
  "language_info": {
   "codemirror_mode": {
    "name": "ipython",
    "version": 3
   },
   "file_extension": ".py",
   "mimetype": "text/x-python",
   "name": "python",
   "nbconvert_exporter": "python",
   "pygments_lexer": "ipython3",
   "version": "3.9.7"
  }
 },
 "nbformat": 4,
 "nbformat_minor": 4
}
